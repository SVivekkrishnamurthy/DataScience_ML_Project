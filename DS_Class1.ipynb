{
 "cells": [
  {
   "cell_type": "code",
   "execution_count": 5,
   "id": "0e8907ae",
   "metadata": {},
   "outputs": [
    {
     "name": "stdout",
     "output_type": "stream",
     "text": [
      "Array is:\n",
      "array('f', [90.80000305175781, 55.900001525878906, 75.5, 91.5, 75.5])\n",
      "<class 'array.array'>\n"
     ]
    }
   ],
   "source": [
    "import array as ar\n",
    "arr=ar.array('f',[90.8,55.9,75.50,91.5,75.50])\n",
    "print('Array is:')\n",
    "print(arr)\n",
    "print(type(arr))"
   ]
  },
  {
   "cell_type": "code",
   "execution_count": 7,
   "id": "5b0881b7",
   "metadata": {},
   "outputs": [
    {
     "name": "stdout",
     "output_type": "stream",
     "text": [
      "5\n",
      "2\n"
     ]
    }
   ],
   "source": [
    "print(len(arr))\n",
    "print(arr.count(75.5))"
   ]
  },
  {
   "cell_type": "code",
   "execution_count": 9,
   "id": "cca17dc6",
   "metadata": {},
   "outputs": [
    {
     "name": "stdout",
     "output_type": "stream",
     "text": [
      "Araay is\n",
      "array('u', 'vivek')\n"
     ]
    }
   ],
   "source": [
    "from array import *\n",
    "ar1=array('u',['v','i','v','e','k'])\n",
    "print('Araay is')\n",
    "print(ar1)"
   ]
  },
  {
   "cell_type": "code",
   "execution_count": null,
   "id": "17359b58",
   "metadata": {},
   "outputs": [],
   "source": []
  }
 ],
 "metadata": {
  "kernelspec": {
   "display_name": "Python 3 (ipykernel)",
   "language": "python",
   "name": "python3"
  },
  "language_info": {
   "codemirror_mode": {
    "name": "ipython",
    "version": 3
   },
   "file_extension": ".py",
   "mimetype": "text/x-python",
   "name": "python",
   "nbconvert_exporter": "python",
   "pygments_lexer": "ipython3",
   "version": "3.10.9"
  }
 },
 "nbformat": 4,
 "nbformat_minor": 5
}
