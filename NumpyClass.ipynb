{
 "cells": [
  {
   "cell_type": "markdown",
   "id": "5887467e",
   "metadata": {},
   "source": []
  },
  {
   "cell_type": "code",
   "execution_count": 4,
   "id": "169c22a2",
   "metadata": {},
   "outputs": [
    {
     "name": "stdout",
     "output_type": "stream",
     "text": [
      "Collecting numpy\n",
      "  Downloading numpy-1.25.1-cp310-cp310-win_amd64.whl (15.0 MB)\n",
      "                                              0.0/15.0 MB ? eta -:--:--\n",
      "                                              0.0/15.0 MB ? eta -:--:--\n",
      "                                             0.0/15.0 MB 325.1 kB/s eta 0:00:47\n",
      "                                             0.1/15.0 MB 901.1 kB/s eta 0:00:17\n",
      "     -                                        0.5/15.0 MB 2.6 MB/s eta 0:00:06\n",
      "     ---                                      1.2/15.0 MB 5.2 MB/s eta 0:00:03\n",
      "     -------                                  2.7/15.0 MB 9.6 MB/s eta 0:00:02\n",
      "     -----------                              4.2/15.0 MB 12.7 MB/s eta 0:00:01\n",
      "     ---------------                          5.8/15.0 MB 15.3 MB/s eta 0:00:01\n",
      "     -------------------                      7.2/15.0 MB 17.7 MB/s eta 0:00:01\n",
      "     ---------------------                    8.0/15.0 MB 18.3 MB/s eta 0:00:01\n",
      "     ---------------------                    8.0/15.0 MB 18.3 MB/s eta 0:00:01\n",
      "     --------------------------              10.1/15.0 MB 17.9 MB/s eta 0:00:01\n",
      "     ----------------------------            11.2/15.0 MB 25.2 MB/s eta 0:00:01\n",
      "     -------------------------------         12.2/15.0 MB 25.2 MB/s eta 0:00:01\n",
      "     ----------------------------------      13.4/15.0 MB 26.2 MB/s eta 0:00:01\n",
      "     --------------------------------------  14.7/15.0 MB 25.2 MB/s eta 0:00:01\n",
      "     --------------------------------------  15.0/15.0 MB 25.2 MB/s eta 0:00:01\n",
      "     --------------------------------------  15.0/15.0 MB 25.2 MB/s eta 0:00:01\n",
      "     --------------------------------------  15.0/15.0 MB 25.2 MB/s eta 0:00:01\n",
      "     --------------------------------------  15.0/15.0 MB 25.2 MB/s eta 0:00:01\n",
      "     --------------------------------------  15.0/15.0 MB 25.2 MB/s eta 0:00:01\n",
      "     --------------------------------------  15.0/15.0 MB 25.2 MB/s eta 0:00:01\n",
      "     --------------------------------------  15.0/15.0 MB 25.2 MB/s eta 0:00:01\n",
      "     --------------------------------------- 15.0/15.0 MB 13.6 MB/s eta 0:00:00\n",
      "Installing collected packages: numpy\n",
      "Successfully installed numpy-1.25.1\n",
      "Note: you may need to restart the kernel to use updated packages.\n"
     ]
    }
   ],
   "source": [
    "pip install numpy"
   ]
  },
  {
   "cell_type": "code",
   "execution_count": 9,
   "id": "3ae7d191",
   "metadata": {},
   "outputs": [
    {
     "name": "stdout",
     "output_type": "stream",
     "text": [
      "1-D, Array is\n",
      "[10 15 18 20 25]\n",
      "*************************\n",
      "<class 'numpy.ndarray'>\n",
      "int32\n"
     ]
    }
   ],
   "source": [
    "import numpy as np\n",
    "arr=np.array([10,15,18,20,25])\n",
    "print('1-D, Array is')\n",
    "print(arr)\n",
    "print('*'*25)\n",
    "print(type(arr))\n",
    "print(arr.dtype)"
   ]
  },
  {
   "cell_type": "code",
   "execution_count": 6,
   "id": "dfc946a2",
   "metadata": {},
   "outputs": [
    {
     "name": "stdout",
     "output_type": "stream",
     "text": [
      "1-D, Array is\n",
      "[10. +0.j 15.1+0.j 18. +4.j 20. +0.j 25. +0.j]\n",
      "*************************\n",
      "<class 'numpy.ndarray'>\n",
      "complex128\n"
     ]
    }
   ],
   "source": [
    "import numpy\n",
    "arr=numpy.array([10,15.1,18+4j,20,25])\n",
    "print('1-D, Array is')\n",
    "print(arr)\n",
    "print('*'*25)\n",
    "print(type(arr))\n",
    "print(arr.dtype)"
   ]
  },
  {
   "cell_type": "code",
   "execution_count": 12,
   "id": "8346965f",
   "metadata": {},
   "outputs": [
    {
     "name": "stdout",
     "output_type": "stream",
     "text": [
      "(5,)\n",
      "1\n",
      "5\n",
      "int32\n",
      "4\n"
     ]
    }
   ],
   "source": [
    "print(arr.shape)\n",
    "print(arr.ndim)\n",
    "print(arr.size)\n",
    "print(arr.dtype)\n",
    "print(arr.itemsize)"
   ]
  },
  {
   "cell_type": "code",
   "execution_count": 14,
   "id": "7b512a2c",
   "metadata": {},
   "outputs": [
    {
     "name": "stdout",
     "output_type": "stream",
     "text": [
      "[ 0  1  2  3  4  5  6  7  8  9 10]\n"
     ]
    }
   ],
   "source": [
    "import numpy as mp\n",
    "ar = np.arange(11)\n",
    "print(ar)"
   ]
  },
  {
   "cell_type": "code",
   "execution_count": 19,
   "id": "65d24868",
   "metadata": {},
   "outputs": [
    {
     "ename": "NameError",
     "evalue": "name 'ar1' is not defined",
     "output_type": "error",
     "traceback": [
      "\u001b[1;31m---------------------------------------------------------------------------\u001b[0m",
      "\u001b[1;31mNameError\u001b[0m                                 Traceback (most recent call last)",
      "Cell \u001b[1;32mIn[19], line 1\u001b[0m\n\u001b[1;32m----> 1\u001b[0m ar \u001b[38;5;241m=\u001b[39m np\u001b[38;5;241m.\u001b[39mappend(\u001b[43mar1\u001b[49m,\u001b[38;5;241m11\u001b[39m)\n\u001b[0;32m      2\u001b[0m \u001b[38;5;28mprint\u001b[39m(ar)\n",
      "\u001b[1;31mNameError\u001b[0m: name 'ar1' is not defined"
     ]
    }
   ],
   "source": [
    "ar = np.append(ar1,11)\n",
    "print(ar)"
   ]
  },
  {
   "cell_type": "code",
   "execution_count": 29,
   "id": "9ffd59c2",
   "metadata": {},
   "outputs": [
    {
     "name": "stdout",
     "output_type": "stream",
     "text": [
      "[0.         1.         1.41421356 1.73205081 2.         2.23606798\n",
      " 2.44948974]\n",
      "2.0\n",
      "[  1.           2.71828183   7.3890561   20.08553692  54.59815003\n",
      " 148.4131591  403.42879349]\n",
      "3.0\n",
      "3.0\n"
     ]
    }
   ],
   "source": [
    "# Statiscal Operation\n",
    "arr=np.arange(7)\n",
    "print(np.sqrt(arr))\n",
    "print(np.std(arr))\n",
    "print(np.exp(arr))\n",
    "print(np.mean(arr))\n",
    "print(np.median(arr))\n"
   ]
  },
  {
   "cell_type": "code",
   "execution_count": 32,
   "id": "ca13c4aa",
   "metadata": {},
   "outputs": [
    {
     "name": "stdout",
     "output_type": "stream",
     "text": [
      "Addition [ 6  8 10 12 14 16]\n",
      "Subraction [-6 -6 -6 -6 -6 -6]\n",
      "Multiplication [ 0  7 16 27 40 55]\n",
      "Division [0.         0.14285714 0.25       0.33333333 0.4        0.45454545]\n",
      "Float Division [0 0 0 0 0 0]\n"
     ]
    }
   ],
   "source": [
    "# Arithmetic operators\n",
    "a=np.arange(6)\n",
    "b=np.arange(6,12)\n",
    "print('Addition', a+b)\n",
    "print('Subraction', a-b)\n",
    "print('Multiplication', a*b)\n",
    "print('Division', a/b)\n",
    "print('Float Division', a//b)\n"
   ]
  },
  {
   "cell_type": "code",
   "execution_count": 34,
   "id": "d8356c1c",
   "metadata": {},
   "outputs": [
    {
     "name": "stdout",
     "output_type": "stream",
     "text": [
      "[0. 0. 0. 0. 0. 0. 0. 0. 0. 0.]\n"
     ]
    }
   ],
   "source": [
    "zero=np.zeros(10)\n",
    "print(zero)"
   ]
  },
  {
   "cell_type": "code",
   "execution_count": 47,
   "id": "b66eaa24",
   "metadata": {},
   "outputs": [
    {
     "name": "stdout",
     "output_type": "stream",
     "text": [
      "[[1.         1.41421356 1.73205081 2.         2.23606798]\n",
      " [2.44948974 2.64575131 2.82842712 3.         3.16227766]]\n",
      "2.8722813232690143\n",
      "[[2.71828183e+00 7.38905610e+00 2.00855369e+01 5.45981500e+01\n",
      "  1.48413159e+02]\n",
      " [4.03428793e+02 1.09663316e+03 2.98095799e+03 8.10308393e+03\n",
      "  2.20264658e+04]]\n",
      "5.5\n",
      "5.5\n"
     ]
    }
   ],
   "source": [
    "arr_2d=np.array([[1,2,3,4,5],[6,7,8,9,10]])\n",
    "print(np.sqrt(arr_2d))\n",
    "print(np.std(arr_2d))\n",
    "print(np.exp(arr_2d))\n",
    "print(np.mean(arr_2d))\n",
    "print(np.median(arr_2d))"
   ]
  },
  {
   "cell_type": "code",
   "execution_count": 35,
   "id": "4b593590",
   "metadata": {},
   "outputs": [
    {
     "name": "stdout",
     "output_type": "stream",
     "text": [
      "[1. 1. 1. 1. 1. 1. 1. 1. 1. 1.]\n"
     ]
    }
   ],
   "source": [
    "one=np.ones(10)\n",
    "print(one)"
   ]
  },
  {
   "cell_type": "code",
   "execution_count": 37,
   "id": "d5ffec4b",
   "metadata": {},
   "outputs": [
    {
     "name": "stdout",
     "output_type": "stream",
     "text": [
      "[[ 0  1  2]\n",
      " [ 3  4  5]\n",
      " [ 6  7  8]\n",
      " [ 9 10 11]]\n"
     ]
    }
   ],
   "source": [
    "#reshape and resize\n",
    "ar_rs=np.arange(12).reshape(4,3)\n",
    "print(ar_rs)"
   ]
  },
  {
   "cell_type": "code",
   "execution_count": 43,
   "id": "9b2847be",
   "metadata": {},
   "outputs": [
    {
     "name": "stdout",
     "output_type": "stream",
     "text": [
      "[[ 0  1  2  3]\n",
      " [ 4  5  6  7]\n",
      " [ 8  9 10 11]]\n"
     ]
    }
   ],
   "source": [
    "ar_rs.resize(3,4)\n",
    "print(ar_rs)"
   ]
  },
  {
   "cell_type": "code",
   "execution_count": 46,
   "id": "1d672c52",
   "metadata": {},
   "outputs": [
    {
     "name": "stdout",
     "output_type": "stream",
     "text": [
      "[[ 0  1  2  3  4  5]\n",
      " [ 6  7  8  9 10 11]]\n"
     ]
    }
   ],
   "source": [
    "ar_rs.resize(2,6)\n",
    "print(ar_rs)"
   ]
  },
  {
   "cell_type": "code",
   "execution_count": 51,
   "id": "9c9dd3b8",
   "metadata": {
    "collapsed": true
   },
   "outputs": [
    {
     "name": "stdout",
     "output_type": "stream",
     "text": [
      "[[0 1]\n",
      " [2 3]]\n",
      "*************************\n",
      "[[0 1]\n",
      " [2 3]\n",
      " [0 1]]\n"
     ]
    }
   ],
   "source": [
    "arr=np.array([[0,1],[2,3]])\n",
    "print(arr)\n",
    "print('*'*25)\n",
    "arr2=np.resize(arr,(3,2))\n",
    "print(arr2)"
   ]
  },
  {
   "cell_type": "markdown",
   "id": "1965c7f6",
   "metadata": {},
   "source": [
    "# Create array to play on"
   ]
  },
  {
   "cell_type": "code",
   "execution_count": 2,
   "id": "86ed8dc1",
   "metadata": {},
   "outputs": [
    {
     "data": {
      "text/plain": [
       "array([[ 0,  1,  2],\n",
       "       [ 3,  4,  5],\n",
       "       [ 6,  7,  8],\n",
       "       [ 9, 10, 11],\n",
       "       [12, 13, 14]])"
      ]
     },
     "execution_count": 2,
     "metadata": {},
     "output_type": "execute_result"
    }
   ],
   "source": [
    "import numpy as np\n",
    "array = np.arange(15).reshape(5,3)\n",
    "array"
   ]
  },
  {
   "cell_type": "code",
   "execution_count": 4,
   "id": "c8003aa7",
   "metadata": {},
   "outputs": [
    {
     "data": {
      "text/plain": [
       "105"
      ]
     },
     "execution_count": 4,
     "metadata": {},
     "output_type": "execute_result"
    }
   ],
   "source": [
    "array.sum()"
   ]
  },
  {
   "cell_type": "code",
   "execution_count": 5,
   "id": "0ad2d286",
   "metadata": {},
   "outputs": [
    {
     "data": {
      "text/plain": [
       "array([30, 35, 40])"
      ]
     },
     "execution_count": 5,
     "metadata": {},
     "output_type": "execute_result"
    }
   ],
   "source": [
    "array.sum(axis=0)"
   ]
  },
  {
   "cell_type": "code",
   "execution_count": 6,
   "id": "14b09d39",
   "metadata": {},
   "outputs": [
    {
     "data": {
      "text/plain": [
       "array([ 3, 12, 21, 30, 39])"
      ]
     },
     "execution_count": 6,
     "metadata": {},
     "output_type": "execute_result"
    }
   ],
   "source": [
    "array.sum(axis=1)"
   ]
  },
  {
   "cell_type": "code",
   "execution_count": 7,
   "id": "fe07fef1",
   "metadata": {},
   "outputs": [
    {
     "data": {
      "text/plain": [
       "14"
      ]
     },
     "execution_count": 7,
     "metadata": {},
     "output_type": "execute_result"
    }
   ],
   "source": [
    "array.max()"
   ]
  },
  {
   "cell_type": "code",
   "execution_count": 8,
   "id": "9a1857a1",
   "metadata": {},
   "outputs": [
    {
     "data": {
      "text/plain": [
       "array([12, 13, 14])"
      ]
     },
     "execution_count": 8,
     "metadata": {},
     "output_type": "execute_result"
    }
   ],
   "source": [
    "array.max(axis=0)"
   ]
  },
  {
   "cell_type": "code",
   "execution_count": 10,
   "id": "b4047c3b",
   "metadata": {},
   "outputs": [
    {
     "data": {
      "text/plain": [
       "array([4, 4, 4], dtype=int64)"
      ]
     },
     "execution_count": 10,
     "metadata": {},
     "output_type": "execute_result"
    }
   ],
   "source": [
    "array.argmax(axis=0)"
   ]
  },
  {
   "cell_type": "code",
   "execution_count": 12,
   "id": "3579d57a",
   "metadata": {},
   "outputs": [
    {
     "name": "stdout",
     "output_type": "stream",
     "text": [
      "[0 1 2]\n",
      "[12 13 14]\n"
     ]
    }
   ],
   "source": [
    "print(array[0])\n",
    "print(array[4])"
   ]
  },
  {
   "cell_type": "markdown",
   "id": "3dd4ba88",
   "metadata": {},
   "source": [
    "# Variance and Standard Deviation function (Statiscal function)"
   ]
  },
  {
   "cell_type": "code",
   "execution_count": 18,
   "id": "01e164dd",
   "metadata": {},
   "outputs": [
    {
     "data": {
      "text/plain": [
       "array([1, 2, 3, 4, 5, 6])"
      ]
     },
     "execution_count": 18,
     "metadata": {},
     "output_type": "execute_result"
    }
   ],
   "source": [
    "array=np.arange(1,7)\n",
    "array"
   ]
  },
  {
   "cell_type": "code",
   "execution_count": 19,
   "id": "a5c4bad7",
   "metadata": {},
   "outputs": [
    {
     "data": {
      "text/plain": [
       "2.9166666666666665"
      ]
     },
     "execution_count": 19,
     "metadata": {},
     "output_type": "execute_result"
    }
   ],
   "source": [
    "array.var()"
   ]
  },
  {
   "cell_type": "code",
   "execution_count": 20,
   "id": "1e699a8c",
   "metadata": {},
   "outputs": [
    {
     "data": {
      "text/plain": [
       "1.707825127659933"
      ]
     },
     "execution_count": 20,
     "metadata": {},
     "output_type": "execute_result"
    }
   ],
   "source": [
    "array.std()"
   ]
  },
  {
   "cell_type": "code",
   "execution_count": 21,
   "id": "95e4b2a4",
   "metadata": {},
   "outputs": [
    {
     "name": "stdout",
     "output_type": "stream",
     "text": [
      "1.707825127659933\n"
     ]
    }
   ],
   "source": [
    "print(np.sqrt(array.var()))"
   ]
  },
  {
   "cell_type": "markdown",
   "id": "2dc5d774",
   "metadata": {},
   "source": [
    "#  Numpy Array indexing and Selection"
   ]
  },
  {
   "cell_type": "code",
   "execution_count": 22,
   "id": "728c72f3",
   "metadata": {},
   "outputs": [
    {
     "data": {
      "text/plain": [
       "array([[ 0,  1,  2],\n",
       "       [ 3,  4,  5],\n",
       "       [ 6,  7,  8],\n",
       "       [ 9, 10, 11],\n",
       "       [12, 13, 14]])"
      ]
     },
     "execution_count": 22,
     "metadata": {},
     "output_type": "execute_result"
    }
   ],
   "source": [
    "array = np.arange(15).reshape(5,3)\n",
    "array"
   ]
  },
  {
   "cell_type": "code",
   "execution_count": 26,
   "id": "d3caae39",
   "metadata": {},
   "outputs": [
    {
     "name": "stdout",
     "output_type": "stream",
     "text": [
      "[[0 1]\n",
      " [3 4]]\n"
     ]
    }
   ],
   "source": [
    "print(array[:2, :2])"
   ]
  },
  {
   "cell_type": "code",
   "execution_count": 28,
   "id": "cb6bd708",
   "metadata": {},
   "outputs": [
    {
     "name": "stdout",
     "output_type": "stream",
     "text": [
      "[[ 4  5]\n",
      " [ 7  8]\n",
      " [10 11]\n",
      " [13 14]]\n"
     ]
    }
   ],
   "source": [
    "print(array[1: , 1:])"
   ]
  },
  {
   "cell_type": "code",
   "execution_count": 29,
   "id": "0810999a",
   "metadata": {},
   "outputs": [
    {
     "name": "stdout",
     "output_type": "stream",
     "text": [
      "4\n"
     ]
    }
   ],
   "source": [
    "print(array[1][1])"
   ]
  },
  {
   "cell_type": "code",
   "execution_count": 30,
   "id": "689015ad",
   "metadata": {},
   "outputs": [
    {
     "name": "stdout",
     "output_type": "stream",
     "text": [
      "11\n"
     ]
    }
   ],
   "source": [
    "print(array[3][2])"
   ]
  },
  {
   "cell_type": "code",
   "execution_count": 31,
   "id": "b90b764a",
   "metadata": {},
   "outputs": [
    {
     "name": "stdout",
     "output_type": "stream",
     "text": [
      "[[ 0  1  2]\n",
      " [ 3  4  5]\n",
      " [ 6  7  8]\n",
      " [ 9 10 11]]\n"
     ]
    }
   ],
   "source": [
    "print(array[0:4])"
   ]
  },
  {
   "cell_type": "markdown",
   "id": "b2ecd373",
   "metadata": {},
   "source": [
    "# COPY"
   ]
  },
  {
   "cell_type": "code",
   "execution_count": 34,
   "id": "3c0adc1d",
   "metadata": {},
   "outputs": [
    {
     "name": "stdout",
     "output_type": "stream",
     "text": [
      "[ 0  1  2  3  4  5  6  7  8  9 10]\n"
     ]
    }
   ],
   "source": [
    "arr=np.arange(11)\n",
    "print(arr)"
   ]
  },
  {
   "cell_type": "code",
   "execution_count": 35,
   "id": "f1afbd6e",
   "metadata": {},
   "outputs": [
    {
     "name": "stdout",
     "output_type": "stream",
     "text": [
      "[0 1 2]\n"
     ]
    }
   ],
   "source": [
    "copy_arr = arr[0:3].copy()\n",
    "print(copy_arr)"
   ]
  },
  {
   "cell_type": "code",
   "execution_count": 36,
   "id": "7b13b070",
   "metadata": {},
   "outputs": [
    {
     "data": {
      "text/plain": [
       "array([22, 22, 22])"
      ]
     },
     "execution_count": 36,
     "metadata": {},
     "output_type": "execute_result"
    }
   ],
   "source": [
    "copy_arr[:] = 22\n",
    "copy_arr"
   ]
  },
  {
   "cell_type": "markdown",
   "id": "e705fe09",
   "metadata": {},
   "source": [
    "# Selection"
   ]
  },
  {
   "cell_type": "code",
   "execution_count": 38,
   "id": "42a349fd",
   "metadata": {},
   "outputs": [
    {
     "name": "stdout",
     "output_type": "stream",
     "text": [
      "[ 0  1  2  3  4  5  6  7  8  9 10 11 12]\n"
     ]
    }
   ],
   "source": [
    "arr=np.arange(13)\n",
    "print(arr)"
   ]
  },
  {
   "cell_type": "code",
   "execution_count": 40,
   "id": "955be4db",
   "metadata": {},
   "outputs": [
    {
     "data": {
      "text/plain": [
       "array([99, 99, 99, 99])"
      ]
     },
     "execution_count": 40,
     "metadata": {},
     "output_type": "execute_result"
    }
   ],
   "source": [
    "part_arr=arr[7:11]\n",
    "part_arr[:] = 99\n",
    "part_arr"
   ]
  },
  {
   "cell_type": "code",
   "execution_count": 41,
   "id": "9d325310",
   "metadata": {},
   "outputs": [
    {
     "data": {
      "text/plain": [
       "array([ 0,  1,  2,  3,  4,  5,  6, 99, 99, 99, 99, 11, 12])"
      ]
     },
     "execution_count": 41,
     "metadata": {},
     "output_type": "execute_result"
    }
   ],
   "source": [
    "arr"
   ]
  },
  {
   "cell_type": "code",
   "execution_count": 42,
   "id": "fe71dd97",
   "metadata": {},
   "outputs": [
    {
     "data": {
      "text/plain": [
       "array([False, False, False, False, False, False, False,  True,  True,\n",
       "        True,  True, False, False])"
      ]
     },
     "execution_count": 42,
     "metadata": {},
     "output_type": "execute_result"
    }
   ],
   "source": [
    "arr>45"
   ]
  },
  {
   "cell_type": "code",
   "execution_count": 43,
   "id": "e4b1fca3",
   "metadata": {},
   "outputs": [],
   "source": [
    "filter_arr=arr>45"
   ]
  },
  {
   "cell_type": "code",
   "execution_count": 45,
   "id": "4fbe9929",
   "metadata": {},
   "outputs": [
    {
     "data": {
      "text/plain": [
       "array([False, False, False, False, False, False, False,  True,  True,\n",
       "        True,  True, False, False])"
      ]
     },
     "execution_count": 45,
     "metadata": {},
     "output_type": "execute_result"
    }
   ],
   "source": [
    "filter_arr"
   ]
  },
  {
   "cell_type": "code",
   "execution_count": 46,
   "id": "dadb6cf5",
   "metadata": {},
   "outputs": [
    {
     "data": {
      "text/plain": [
       "array([99, 99, 99, 99])"
      ]
     },
     "execution_count": 46,
     "metadata": {},
     "output_type": "execute_result"
    }
   ],
   "source": [
    "arr[filter_arr]"
   ]
  },
  {
   "cell_type": "markdown",
   "id": "16120ce3",
   "metadata": {},
   "source": [
    "# Creating arrays with random"
   ]
  },
  {
   "cell_type": "code",
   "execution_count": 1,
   "id": "84b8cd88",
   "metadata": {},
   "outputs": [],
   "source": [
    "import numpy.random as rd"
   ]
  },
  {
   "cell_type": "code",
   "execution_count": 2,
   "id": "71b9fbce",
   "metadata": {},
   "outputs": [
    {
     "data": {
      "text/plain": [
       "array([0.02757768, 0.33938495, 0.63496776, 0.69622932, 0.9456069 ,\n",
       "       0.98768232, 0.53846325, 0.02210993, 0.14174747, 0.47252109])"
      ]
     },
     "execution_count": 2,
     "metadata": {},
     "output_type": "execute_result"
    }
   ],
   "source": [
    "rd.random(10)"
   ]
  },
  {
   "cell_type": "code",
   "execution_count": 4,
   "id": "96a958c2",
   "metadata": {},
   "outputs": [
    {
     "ename": "AttributeError",
     "evalue": "module 'numpy.random' has no attribute 'randin'",
     "output_type": "error",
     "traceback": [
      "\u001b[1;31m---------------------------------------------------------------------------\u001b[0m",
      "\u001b[1;31mAttributeError\u001b[0m                            Traceback (most recent call last)",
      "Cell \u001b[1;32mIn[4], line 2\u001b[0m\n\u001b[0;32m      1\u001b[0m \u001b[38;5;66;03m#randin  - it will display the positive and negative\u001b[39;00m\n\u001b[1;32m----> 2\u001b[0m sort_ar \u001b[38;5;241m=\u001b[39m \u001b[43mrd\u001b[49m\u001b[38;5;241;43m.\u001b[39;49m\u001b[43mrandin\u001b[49m(\u001b[38;5;241m12\u001b[39m)\u001b[38;5;241m.\u001b[39mreshape(\u001b[38;5;241m3\u001b[39m,\u001b[38;5;241m4\u001b[39m)\n",
      "\u001b[1;31mAttributeError\u001b[0m: module 'numpy.random' has no attribute 'randin'"
     ]
    }
   ],
   "source": [
    "#randin  - it will display the positive and negative\n",
    "sort_ar = rd.randin(12).reshape(3,4)"
   ]
  },
  {
   "cell_type": "code",
   "execution_count": null,
   "id": "c9492412",
   "metadata": {},
   "outputs": [],
   "source": []
  }
 ],
 "metadata": {
  "kernelspec": {
   "display_name": "Python 3 (ipykernel)",
   "language": "python",
   "name": "python3"
  },
  "language_info": {
   "codemirror_mode": {
    "name": "ipython",
    "version": 3
   },
   "file_extension": ".py",
   "mimetype": "text/x-python",
   "name": "python",
   "nbconvert_exporter": "python",
   "pygments_lexer": "ipython3",
   "version": "3.10.9"
  }
 },
 "nbformat": 4,
 "nbformat_minor": 5
}
