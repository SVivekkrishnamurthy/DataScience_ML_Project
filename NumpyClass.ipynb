{
 "cells": [
  {
   "cell_type": "code",
   "execution_count": 3,
   "id": "01f42ac2",
   "metadata": {},
   "outputs": [
    {
     "name": "stdout",
     "output_type": "stream",
     "text": [
      "1-D, Array is\n",
      "[10 15 18 20 25]\n",
      "*************************\n",
      "<class 'numpy.ndarray'>\n",
      "int32\n"
     ]
    }
   ],
   "source": [
    "import numpy\n",
    "arr=numpy.array([10,15,18,20,25])\n",
    "print('1-D, Array is')\n",
    "print(arr)\n",
    "print('*'*25)\n",
    "print(type(arr))\n",
    "print(arr.dtype)"
   ]
  },
  {
   "cell_type": "code",
   "execution_count": 7,
   "id": "0b49491b",
   "metadata": {},
   "outputs": [
    {
     "name": "stdout",
     "output_type": "stream",
     "text": [
      "1-D, Array is\n",
      "[10. +0.j 15.1+0.j 18. +4.j 20. +0.j 25. +0.j]\n",
      "*************************\n",
      "<class 'numpy.ndarray'>\n",
      "complex128\n"
     ]
    }
   ],
   "source": [
    "import numpy\n",
    "arr=numpy.array([10,15.1,18+4j,20,25])\n",
    "print('1-D, Array is')\n",
    "print(arr)\n",
    "print('*'*25)\n",
    "print(type(arr))\n",
    "print(arr.dtype)"
   ]
  },
  {
   "cell_type": "code",
   "execution_count": 8,
   "id": "4071a64a",
   "metadata": {},
   "outputs": [
    {
     "name": "stdout",
     "output_type": "stream",
     "text": [
      "(5,)\n"
     ]
    }
   ],
   "source": [
    "print(arr.shape)"
   ]
  }
 ],
 "metadata": {
  "kernelspec": {
   "display_name": "Python 3 (ipykernel)",
   "language": "python",
   "name": "python3"
  },
  "language_info": {
   "codemirror_mode": {
    "name": "ipython",
    "version": 3
   },
   "file_extension": ".py",
   "mimetype": "text/x-python",
   "name": "python",
   "nbconvert_exporter": "python",
   "pygments_lexer": "ipython3",
   "version": "3.10.9"
  }
 },
 "nbformat": 4,
 "nbformat_minor": 5
}
