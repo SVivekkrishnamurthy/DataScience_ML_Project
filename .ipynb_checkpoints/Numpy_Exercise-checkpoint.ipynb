{
 "cells": [
  {
   "cell_type": "markdown",
   "id": "14a74266",
   "metadata": {},
   "source": [
    "## NumPy Practice"
   ]
  },
  {
   "cell_type": "markdown",
   "id": "a93aa763",
   "metadata": {},
   "source": [
    "This notebook offers a set of exercises for different tasks with NumPy.\n",
    "\n",
    "It should be noted there may be more than one different way to answer a question or complete an exercise.\n",
    "\n",
    "Exercises are based off (and directly taken from) the quick introduction to NumPy notebook.\n",
    "\n",
    "Different tasks will be detailed by comments or text.\n",
    "\n",
    "For further reference and resources, it's advised to check out the NumPy documentation.\n",
    "\n",
    "And if you get stuck, try searching for a question in the following format: \"how to do XYZ with numpy\", where XYZ is the function you want to leverage from NumPy."
   ]
  },
  {
   "cell_type": "code",
   "execution_count": 1,
   "id": "e2eddff5",
   "metadata": {},
   "outputs": [
    {
     "name": "stdout",
     "output_type": "stream",
     "text": [
      "1.25.0\n"
     ]
    }
   ],
   "source": [
    "# Import NumPy as its abbreviation 'np'\n",
    "import numpy as np\n",
    "print(np.__version__)"
   ]
  },
  {
   "cell_type": "code",
   "execution_count": 2,
   "id": "8eefbc0a",
   "metadata": {},
   "outputs": [
    {
     "data": {
      "text/plain": [
       "array([0, 1, 2, 3, 4, 5, 6, 7, 8, 9])"
      ]
     },
     "execution_count": 2,
     "metadata": {},
     "output_type": "execute_result"
    }
   ],
   "source": [
    "# Create a 1-dimensional NumPy array using np.array()\n",
    "arr = np.arange(10)\n",
    "arr"
   ]
  },
  {
   "cell_type": "code",
   "execution_count": 3,
   "id": "598e65a9",
   "metadata": {},
   "outputs": [
    {
     "name": "stdout",
     "output_type": "stream",
     "text": [
      "[[ 1  2  3  4]\n",
      " [ 5  6  7  8]\n",
      " [ 9 10 11 12]]\n"
     ]
    }
   ],
   "source": [
    "# Create a 2-dimensional NumPy array using np.array()\n",
    "arr1 = np.array([[1, 2, 3, 4], [5, 6, 7, 8], [9, 10, 11, 12]])\n",
    "\n",
    "print(arr1)"
   ]
  },
  {
   "cell_type": "code",
   "execution_count": 4,
   "id": "3cd28cfa",
   "metadata": {},
   "outputs": [
    {
     "name": "stdout",
     "output_type": "stream",
     "text": [
      "[[[ 1  2  3  4]\n",
      "  [ 5  6  7  8]\n",
      "  [ 9 10 11 12]]\n",
      "\n",
      " [[13 14 15 16]\n",
      "  [17 18 19 20]\n",
      "  [21 22 23 24]]]\n"
     ]
    }
   ],
   "source": [
    "# Create a 3-dimensional Numpy array using np.array()\n",
    "nested_list = [[[1, 2, 3, 4], [5, 6, 7, 8], [9, 10, 11, 12]],\n",
    "               [[13, 14, 15, 16], [17, 18, 19, 20], [21, 22, 23, 24]]]\n",
    "arr3 = np.array(nested_list)\n",
    "\n",
    "print(arr3)"
   ]
  },
  {
   "cell_type": "markdown",
   "id": "abe23553",
   "metadata": {},
   "source": [
    "Now we've you've created 3 different arrays, let's find details about them.\n",
    "\n",
    "Find the shape, number of dimensions, data type, size and type of each array."
   ]
  },
  {
   "cell_type": "code",
   "execution_count": 5,
   "id": "2d2a6dc7",
   "metadata": {},
   "outputs": [
    {
     "name": "stdout",
     "output_type": "stream",
     "text": [
      "(10,)\n",
      "10\n",
      "1\n",
      "int32\n",
      "10\n",
      "4\n"
     ]
    }
   ],
   "source": [
    "# Attributes of 1-dimensional array (shape, \n",
    "# number of dimensions, data type, size and type)\n",
    "print(arr.shape)\n",
    "print(arr.size)\n",
    "print(arr.ndim)\n",
    "print(arr.dtype)\n",
    "print(arr.size)\n",
    "print(arr.itemsize)"
   ]
  },
  {
   "cell_type": "code",
   "execution_count": 6,
   "id": "a319001f",
   "metadata": {},
   "outputs": [
    {
     "name": "stdout",
     "output_type": "stream",
     "text": [
      "(3, 4)\n",
      "12\n",
      "2\n",
      "int32\n",
      "12\n",
      "4\n",
      "<memory at 0x000001CF6DAFA400>\n"
     ]
    }
   ],
   "source": [
    "# Attributes of 2-dimensional array\n",
    "print(arr1.shape)\n",
    "print(arr1.size)\n",
    "print(arr1.ndim)\n",
    "print(arr1.dtype)\n",
    "print(arr1.size)\n",
    "print(arr1.itemsize)\n",
    "print(arr1.data)"
   ]
  },
  {
   "cell_type": "code",
   "execution_count": 7,
   "id": "64d9bc7c",
   "metadata": {},
   "outputs": [
    {
     "name": "stdout",
     "output_type": "stream",
     "text": [
      "(2, 3, 4)\n",
      "24\n",
      "3\n",
      "int32\n",
      "24\n",
      "4\n",
      "<memory at 0x000001CF6DADD990>\n"
     ]
    }
   ],
   "source": [
    "# Attributes of 3-dimensional array\n",
    "print(arr3.shape)\n",
    "print(arr3.size)\n",
    "print(arr3.ndim)\n",
    "print(arr3.dtype)\n",
    "print(arr3.size)\n",
    "print(arr3.itemsize)\n",
    "print(arr3.data)"
   ]
  },
  {
   "cell_type": "code",
   "execution_count": 8,
   "id": "7d8e0f93",
   "metadata": {},
   "outputs": [
    {
     "data": {
      "text/html": [
       "<div>\n",
       "<style scoped>\n",
       "    .dataframe tbody tr th:only-of-type {\n",
       "        vertical-align: middle;\n",
       "    }\n",
       "\n",
       "    .dataframe tbody tr th {\n",
       "        vertical-align: top;\n",
       "    }\n",
       "\n",
       "    .dataframe thead th {\n",
       "        text-align: right;\n",
       "    }\n",
       "</style>\n",
       "<table border=\"1\" class=\"dataframe\">\n",
       "  <thead>\n",
       "    <tr style=\"text-align: right;\">\n",
       "      <th></th>\n",
       "      <th>0</th>\n",
       "    </tr>\n",
       "  </thead>\n",
       "  <tbody>\n",
       "    <tr>\n",
       "      <th>0</th>\n",
       "      <td>Geeks</td>\n",
       "    </tr>\n",
       "    <tr>\n",
       "      <th>1</th>\n",
       "      <td>For</td>\n",
       "    </tr>\n",
       "    <tr>\n",
       "      <th>2</th>\n",
       "      <td>Geeks</td>\n",
       "    </tr>\n",
       "    <tr>\n",
       "      <th>3</th>\n",
       "      <td>is</td>\n",
       "    </tr>\n",
       "    <tr>\n",
       "      <th>4</th>\n",
       "      <td>portal</td>\n",
       "    </tr>\n",
       "    <tr>\n",
       "      <th>5</th>\n",
       "      <td>for</td>\n",
       "    </tr>\n",
       "    <tr>\n",
       "      <th>6</th>\n",
       "      <td>Geeks</td>\n",
       "    </tr>\n",
       "  </tbody>\n",
       "</table>\n",
       "</div>"
      ],
      "text/plain": [
       "        0\n",
       "0   Geeks\n",
       "1     For\n",
       "2   Geeks\n",
       "3      is\n",
       "4  portal\n",
       "5     for\n",
       "6   Geeks"
      ]
     },
     "execution_count": 8,
     "metadata": {},
     "output_type": "execute_result"
    }
   ],
   "source": [
    "# Import pandas and create a DataFrame out of one\n",
    "# of the arrays you've created\n",
    "import pandas as pd\n",
    "lst = ['Geeks', 'For', 'Geeks', 'is', \n",
    "            'portal', 'for', 'Geeks']\n",
    "df = pd.DataFrame(lst)\n",
    "df"
   ]
  },
  {
   "cell_type": "code",
   "execution_count": 9,
   "id": "b2668029",
   "metadata": {},
   "outputs": [
    {
     "name": "stdout",
     "output_type": "stream",
     "text": [
      "[[1 1]\n",
      " [1 1]\n",
      " [1 1]\n",
      " [1 1]\n",
      " [1 1]\n",
      " [1 1]\n",
      " [1 1]\n",
      " [1 1]\n",
      " [1 1]\n",
      " [1 1]]\n"
     ]
    }
   ],
   "source": [
    "# Create an array of shape (10, 2) with only ones\n",
    "arr_2d = np.ones( (10, 2) , dtype=np.int64)\n",
    "print(arr_2d)"
   ]
  },
  {
   "cell_type": "code",
   "execution_count": 10,
   "id": "93cc362c",
   "metadata": {},
   "outputs": [
    {
     "name": "stdout",
     "output_type": "stream",
     "text": [
      "[[[0 0 0]\n",
      "  [0 0 0]]\n",
      "\n",
      " [[0 0 0]\n",
      "  [0 0 0]]\n",
      "\n",
      " [[0 0 0]\n",
      "  [0 0 0]]\n",
      "\n",
      " [[0 0 0]\n",
      "  [0 0 0]]\n",
      "\n",
      " [[0 0 0]\n",
      "  [0 0 0]]\n",
      "\n",
      " [[0 0 0]\n",
      "  [0 0 0]]\n",
      "\n",
      " [[0 0 0]\n",
      "  [0 0 0]]]\n"
     ]
    }
   ],
   "source": [
    "# Create an array of shape (7, 2, 3) of only zeros\n",
    "arr_3d = np.zeros( (7, 2,3) , dtype=np.int64)\n",
    "print(arr_3d)"
   ]
  },
  {
   "cell_type": "code",
   "execution_count": 11,
   "id": "447afbb0",
   "metadata": {},
   "outputs": [
    {
     "name": "stdout",
     "output_type": "stream",
     "text": [
      "[0, 1, 2, 3, 4, 5, 6, 7, 8, 9, 10, 11, 12, 13, 14, 15, 16, 17, 18, 19, 20, 21, 22, 23, 24, 25, 26, 27, 28, 29, 30, 31, 32, 33, 34, 35, 36, 37, 38, 39, 40, 41, 42, 43, 44, 45, 46, 47, 48, 49, 50, 51, 52, 53, 54, 55, 56, 57, 58, 59, 60, 61, 62, 63, 64, 65, 66, 67, 68, 69, 70, 71, 72, 73, 74, 75, 76, 77, 78, 79, 80, 81, 82, 83, 84, 85, 86, 87, 88, 89, 90, 91, 92, 93, 94, 95, 96, 97, 98, 99, 100]\n"
     ]
    }
   ],
   "source": [
    "# Create an array within a range of 0 and 100 with step 3\n",
    "lst = np.arange(0,101).tolist()\n",
    "print(lst)"
   ]
  },
  {
   "cell_type": "code",
   "execution_count": 12,
   "id": "bd7f1a4f",
   "metadata": {},
   "outputs": [
    {
     "name": "stdout",
     "output_type": "stream",
     "text": [
      "[[9 0]\n",
      " [2 8]\n",
      " [5 9]\n",
      " [3 3]\n",
      " [5 2]\n",
      " [7 5]\n",
      " [4 4]]\n"
     ]
    }
   ],
   "source": [
    "# Create a random array with numbers between 0 and 10 of size (7, 2)\n",
    "from numpy import random\n",
    "\n",
    "x = random.randint(10, size=(7, 2))\n",
    "\n",
    "print(x)\n"
   ]
  },
  {
   "cell_type": "code",
   "execution_count": 13,
   "id": "285f4779",
   "metadata": {},
   "outputs": [
    {
     "data": {
      "text/plain": [
       "array([[0.03570004, 0.89084553, 0.23995263, 0.61172643, 0.14933429],\n",
       "       [0.11348818, 0.54735264, 0.25056151, 0.07205125, 0.8704885 ],\n",
       "       [0.25558037, 0.05773729, 0.60348902, 0.40385076, 0.70293057]])"
      ]
     },
     "execution_count": 13,
     "metadata": {},
     "output_type": "execute_result"
    }
   ],
   "source": [
    "# Create a random array of floats between 0 & 1 of shape (3, 5)\n",
    "\n",
    "rand_arr = np.random.randint(low=0, high=1, size=(3,5)) + np.random.random((3,5))\n",
    "rand_arr"
   ]
  },
  {
   "cell_type": "code",
   "execution_count": 14,
   "id": "8a37d118",
   "metadata": {},
   "outputs": [
    {
     "name": "stdout",
     "output_type": "stream",
     "text": [
      "[[6 3 7 4 6 9]\n",
      " [2 6 7 4 3 7]\n",
      " [7 2 5 4 1 7]\n",
      " [5 1 4 0 9 5]]\n"
     ]
    }
   ],
   "source": [
    "# Set the random seed to 42\n",
    "np.random.seed(42)\n",
    "\n",
    "# Create a random array of numbers between 0 & 10 of size (4, 6)\n",
    "\n",
    "x = random.randint(10, size=(4, 6))\n",
    "\n",
    "print(x)"
   ]
  },
  {
   "cell_type": "markdown",
   "id": "85955729",
   "metadata": {},
   "source": [
    "Run the cell above again, what happens?\n",
    "\n",
    "Are the numbers in the array different or the same? Why do think this is?"
   ]
  },
  {
   "cell_type": "code",
   "execution_count": 15,
   "id": "6f5a742b",
   "metadata": {},
   "outputs": [
    {
     "name": "stdout",
     "output_type": "stream",
     "text": [
      "[[9 1 3 7 4 9 3]\n",
      " [5 3 7 5 9 7 2]\n",
      " [4 9 2 9 5 2 4]]\n"
     ]
    }
   ],
   "source": [
    "# Create an array of random numbers between 1 & 10 of size (3, 7)\n",
    "a = np.random.randint(low=1, high=10, size = (3,7))\n",
    "print(a) \n",
    "# and save it to a variable\n"
   ]
  },
  {
   "cell_type": "code",
   "execution_count": 16,
   "id": "214bd3a6",
   "metadata": {},
   "outputs": [
    {
     "name": "stdout",
     "output_type": "stream",
     "text": [
      "[1 2 3 4 5 7 9]\n"
     ]
    }
   ],
   "source": [
    "# Find the unique numbers in the array you just created\n",
    "gfg = np.unique(a)\n",
    "print(gfg)"
   ]
  },
  {
   "cell_type": "code",
   "execution_count": 17,
   "id": "f2b3f393",
   "metadata": {},
   "outputs": [
    {
     "name": "stdout",
     "output_type": "stream",
     "text": [
      "array:\n",
      "[[6 7 2 0 3 1]\n",
      " [7 3 1 5 5 9]\n",
      " [3 5 1 9 1 9]\n",
      " [3 7 6 8 7 4]]\n",
      "Find the 0'th index of the latest array you created:\n",
      "[0]\n"
     ]
    }
   ],
   "source": [
    "# Find the 0'th index of the latest array you created\n",
    "\n",
    "nums = random.randint(10, size=(4, 6))\n",
    "print(\"array:\")\n",
    "print(nums)\n",
    "print(\"Find the 0'th index of the latest array you created:\")\n",
    "result = np.where(nums == 0)[0]\n",
    "print(result)"
   ]
  },
  {
   "cell_type": "code",
   "execution_count": 18,
   "id": "a0f51ee1",
   "metadata": {},
   "outputs": [
    {
     "name": "stdout",
     "output_type": "stream",
     "text": [
      "array:\n",
      "[[0 1 2]\n",
      " [3 4 5]\n",
      " [6 7 8]]\n",
      "\n",
      "first 2 values of the first 2 rows of the latest array \n",
      "[[0 1]\n",
      " [3 4]]\n"
     ]
    }
   ],
   "source": [
    "#Get the first 2 values of the first 2 rows of the latest array\n",
    "arra_data = np.arange(0,9).reshape((3, 3))\n",
    "print(\"array:\")\n",
    "print(arra_data)\n",
    "print(\"\\nfirst 2 values of the first 2 rows of the latest array \")\n",
    "print(arra_data[0:2, 0:2])"
   ]
  },
  {
   "cell_type": "code",
   "execution_count": 19,
   "id": "1af6670c",
   "metadata": {},
   "outputs": [
    {
     "name": "stdout",
     "output_type": "stream",
     "text": [
      "array:\n",
      "[[1 4 7 9 8]\n",
      " [8 0 8 6 8]\n",
      " [7 0 7 7 2]]\n"
     ]
    }
   ],
   "source": [
    "# Create a random array of numbers between 0 & 10 and an array of ones\n",
    "# both of size (3, 5), save them both to variables\n",
    "\n",
    "nums = random.randint(0,10, size=(3, 5))\n",
    "print(\"array:\")\n",
    "print(nums)\n",
    "\n"
   ]
  },
  {
   "cell_type": "code",
   "execution_count": 20,
   "id": "2a1cacb3",
   "metadata": {},
   "outputs": [
    {
     "name": "stdout",
     "output_type": "stream",
     "text": [
      "Original array:\n",
      "[1. 1. 1. 1. 1. 1. 1. 1. 1. 1.]\n"
     ]
    }
   ],
   "source": [
    "arr_1 = np.ones((10))\n",
    "print(\"Original array:\")\n",
    "print(arr_1)"
   ]
  },
  {
   "cell_type": "code",
   "execution_count": 21,
   "id": "c4f09fdd",
   "metadata": {},
   "outputs": [
    {
     "name": "stdout",
     "output_type": "stream",
     "text": [
      "1st array :  [3 2 1]\n",
      "2nd array :  [1 2 3]\n",
      "added array :  [4 4 4]\n"
     ]
    }
   ],
   "source": [
    "# Add the two arrays together\n",
    "arr1 = np.array([3, 2, 1])\n",
    "arr2 = np.array([1, 2, 3])\n",
    "   \n",
    "print (\"1st array : \", arr1)  \n",
    "print (\"2nd array : \", arr2)  \n",
    "   \n",
    "out_arr = np.add(arr1, arr2)  \n",
    "print (\"added array : \", out_arr)  "
   ]
  },
  {
   "cell_type": "code",
   "execution_count": 22,
   "id": "0cc284aa",
   "metadata": {},
   "outputs": [
    {
     "name": "stdout",
     "output_type": "stream",
     "text": [
      "[[1 1 1]\n",
      " [1 1 1]\n",
      " [1 1 1]\n",
      " [1 1 1]\n",
      " [1 1 1]]\n"
     ]
    }
   ],
   "source": [
    "# Create another array of ones of shape (5, 3)\n",
    "#using no.ones\n",
    "y = np.ones([5, 3], dtype=np.uint) *1\n",
    "print(y)"
   ]
  },
  {
   "cell_type": "code",
   "execution_count": 23,
   "id": "0f2c75bc",
   "metadata": {},
   "outputs": [
    {
     "name": "stdout",
     "output_type": "stream",
     "text": [
      "[[2 2 2]\n",
      " [2 2 2]\n",
      " [2 2 2]\n",
      " [2 2 2]\n",
      " [2 2 2]]\n",
      "[[1 1 1]\n",
      " [1 1 1]\n",
      " [1 1 1]\n",
      " [1 1 1]\n",
      " [1 1 1]]\n",
      "added array : \n",
      " [[3 3 3]\n",
      " [3 3 3]\n",
      " [3 3 3]\n",
      " [3 3 3]\n",
      " [3 3 3]]\n"
     ]
    }
   ],
   "source": [
    "# Try add the array of ones and the other most recent array together\n",
    "x = np.full((5, 3), 2, dtype=np.uint)\n",
    "print(x)\n",
    "#using no.ones\n",
    "y = np.ones([5, 3], dtype=np.uint) *1\n",
    "print(y)\n",
    "out_arr = np.add(x, y)  \n",
    "print (\"added array : \\n\", out_arr)  "
   ]
  },
  {
   "cell_type": "markdown",
   "id": "e569c538",
   "metadata": {},
   "source": [
    "When you try the last cell, it produces an error. Why do think this is?\n",
    "\n",
    "How would you fix it?"
   ]
  },
  {
   "cell_type": "code",
   "execution_count": 27,
   "id": "7e4f165e",
   "metadata": {},
   "outputs": [
    {
     "name": "stdout",
     "output_type": "stream",
     "text": [
      "[[1. 1. 1. 1. 1.]\n",
      " [1. 1. 1. 1. 1.]\n",
      " [1. 1. 1. 1. 1.]]\n"
     ]
    }
   ],
   "source": [
    "# Create another array of ones of shape (3, 5)\n",
    "y = np.ones([3, 5])\n",
    "print(y)"
   ]
  },
  {
   "cell_type": "code",
   "execution_count": 30,
   "id": "b9f8d778",
   "metadata": {},
   "outputs": [
    {
     "name": "stdout",
     "output_type": "stream",
     "text": [
      "[[ 0.  3.  6.  8.  7.]\n",
      " [ 7. -1.  7.  5.  7.]\n",
      " [ 6. -1.  6.  6.  1.]]\n"
     ]
    }
   ],
   "source": [
    "# Subtract the new array of ones from the other most recent array\n",
    "ar_sub = np.subtract(nums, y)\n",
    "print(ar_sub)"
   ]
  },
  {
   "cell_type": "code",
   "execution_count": 36,
   "id": "57c82f83",
   "metadata": {},
   "outputs": [
    {
     "name": "stdout",
     "output_type": "stream",
     "text": [
      "[[1. 4. 7. 9. 8.]\n",
      " [8. 0. 8. 6. 8.]\n",
      " [7. 0. 7. 7. 2.]]\n"
     ]
    }
   ],
   "source": [
    "# Multiply the ones array with the latest array\n",
    "ar_mul = np.multiply(nums, y)\n",
    "print(ar_mul)\n"
   ]
  },
  {
   "cell_type": "code",
   "execution_count": 37,
   "id": "dde50659",
   "metadata": {},
   "outputs": [
    {
     "data": {
      "text/plain": [
       "array([[ 1., 16., 49., 81., 64.],\n",
       "       [64.,  0., 64., 36., 64.],\n",
       "       [49.,  0., 49., 49.,  4.]])"
      ]
     },
     "execution_count": 37,
     "metadata": {},
     "output_type": "execute_result"
    }
   ],
   "source": [
    "# Take the latest array to the power of 2 using '**'\n",
    "arr_pow2 = ar_mul ** 2\n",
    "arr_pow2"
   ]
  },
  {
   "cell_type": "code",
   "execution_count": 38,
   "id": "ec20e5c3",
   "metadata": {},
   "outputs": [
    {
     "data": {
      "text/plain": [
       "array([[ 1., 16., 49., 81., 64.],\n",
       "       [64.,  0., 64., 36., 64.],\n",
       "       [49.,  0., 49., 49.,  4.]])"
      ]
     },
     "execution_count": 38,
     "metadata": {},
     "output_type": "execute_result"
    }
   ],
   "source": [
    "# Do the same thing with np.square()\n",
    "arr_sq = np.square(ar_mul)\n",
    "arr_sq"
   ]
  },
  {
   "cell_type": "code",
   "execution_count": 40,
   "id": "6770e2ba",
   "metadata": {},
   "outputs": [
    {
     "data": {
      "text/plain": [
       "39.333333333333336"
      ]
     },
     "execution_count": 40,
     "metadata": {},
     "output_type": "execute_result"
    }
   ],
   "source": [
    "# Find the mean of the latest array using np.mean()\n",
    "arr_mean = np.mean(arr_sq)\n",
    "arr_mean"
   ]
  },
  {
   "cell_type": "code",
   "execution_count": 41,
   "id": "35101d39",
   "metadata": {},
   "outputs": [
    {
     "data": {
      "text/plain": [
       "9"
      ]
     },
     "execution_count": 41,
     "metadata": {},
     "output_type": "execute_result"
    }
   ],
   "source": [
    "# Find the maximum of the latest array using np.max()\n",
    "arr_max = np.max(nums)\n",
    "arr_max"
   ]
  },
  {
   "cell_type": "code",
   "execution_count": 43,
   "id": "9e77005b",
   "metadata": {},
   "outputs": [
    {
     "data": {
      "text/plain": [
       "0"
      ]
     },
     "execution_count": 43,
     "metadata": {},
     "output_type": "execute_result"
    }
   ],
   "source": [
    "# Find the minimum of the latest array using np.min()\n",
    "arr_min = np.min(nums)\n",
    "arr_min"
   ]
  },
  {
   "cell_type": "code",
   "execution_count": 44,
   "id": "b4650372",
   "metadata": {},
   "outputs": [
    {
     "name": "stdout",
     "output_type": "stream",
     "text": [
      "26.97076606665488\n"
     ]
    }
   ],
   "source": [
    "# Find the standard deviation of the latest array\n",
    "arr_sd = np.std(arr_pow2)\n",
    "print(arr_sd)"
   ]
  },
  {
   "cell_type": "code",
   "execution_count": 45,
   "id": "671b6f9e",
   "metadata": {},
   "outputs": [
    {
     "name": "stdout",
     "output_type": "stream",
     "text": [
      "727.4222222222223\n"
     ]
    }
   ],
   "source": [
    "# Find the variance of the latest array\n",
    "arr_vr = np.var(arr_pow2)\n",
    "print(arr_vr)"
   ]
  },
  {
   "cell_type": "code",
   "execution_count": 46,
   "id": "d387ae02",
   "metadata": {},
   "outputs": [
    {
     "name": "stdout",
     "output_type": "stream",
     "text": [
      "[[[ 1.]\n",
      "  [16.]\n",
      "  [49.]\n",
      "  [81.]\n",
      "  [64.]]\n",
      "\n",
      " [[64.]\n",
      "  [ 0.]\n",
      "  [64.]\n",
      "  [36.]\n",
      "  [64.]]\n",
      "\n",
      " [[49.]\n",
      "  [ 0.]\n",
      "  [49.]\n",
      "  [49.]\n",
      "  [ 4.]]]\n"
     ]
    }
   ],
   "source": [
    "# Reshape the latest array to (3, 5, 1)\n",
    "arr_reshape = np.reshape(arr_pow2, (3, 5, 1))\n",
    "print(arr_reshape)"
   ]
  },
  {
   "cell_type": "code",
   "execution_count": 47,
   "id": "747b3df3",
   "metadata": {},
   "outputs": [
    {
     "name": "stdout",
     "output_type": "stream",
     "text": [
      "[[ 1. 64. 49.]\n",
      " [16.  0.  0.]\n",
      " [49. 64. 49.]\n",
      " [81. 36. 49.]\n",
      " [64. 64.  4.]]\n"
     ]
    }
   ],
   "source": [
    "# Transpose the latest array\n",
    "arr_transp = arr_pow2.T\n",
    "print(arr_transp)"
   ]
  },
  {
   "cell_type": "markdown",
   "id": "eee2c834",
   "metadata": {},
   "source": [
    "What does the transpose do?\n",
    "\n",
    "Ans: The transpose of a matrix is an operation that swaps its rows and columns, effectively flipping the matrix over its diagonal. This means that the element at the ith row and jth column of the original matrix becomes the element at the jth row and ith column in the transposed matrix."
   ]
  },
  {
   "cell_type": "code",
   "execution_count": 48,
   "id": "fac42193",
   "metadata": {},
   "outputs": [
    {
     "name": "stdout",
     "output_type": "stream",
     "text": [
      "Array of 3 X 3 : \n",
      " [[ 0  7  2]\n",
      " [ 2  0 10]\n",
      " [ 4  9  6]]\n",
      "Array of 3 X 2 : \n",
      " [[9 8]\n",
      " [6 8]\n",
      " [7 1]]\n"
     ]
    }
   ],
   "source": [
    "# Create two arrays of random integers between 0 to 10\n",
    "# one of size (3, 3) the other of size (3, 2)\n",
    "\n",
    "arr_3 = np.random.randint(0, 11, size = (3, 3))\n",
    "arr_2 = np.random.randint(0, 11, size = (3, 2))\n",
    "\n",
    "print(f\"Array of 3 X 3 : \\n\", arr_3)\n",
    "print(f\"Array of 3 X 2 : \\n\", arr_2)"
   ]
  },
  {
   "cell_type": "code",
   "execution_count": 56,
   "id": "c33503a4",
   "metadata": {},
   "outputs": [
    {
     "name": "stdout",
     "output_type": "stream",
     "text": [
      "Original arrays:\n",
      "[[ 0  7  2]\n",
      " [ 2  0 10]\n",
      " [ 4  9  6]]\n",
      "[[1 4 7 9 8]\n",
      " [8 0 8 6 8]\n",
      " [7 0 7 7 2]]\n",
      "Dot product of the said two arrays:\n",
      "[[ 70   0  70  56  60]\n",
      " [ 72   8  84  88  36]\n",
      " [118  16 142 132 116]]\n"
     ]
    }
   ],
   "source": [
    "# Perform a dot product on the two newest arrays you created\n",
    "\n",
    "print(\"Original arrays:\")\n",
    "print(arr_3)\n",
    "print(nums)\n",
    "# Find the dot product\n",
    "arr_dot1 = np.dot(arr_3, nums)\n",
    "# Print the result\n",
    "print(\"Dot product of the said two arrays:\")\n",
    "print(arr_dot1)\n"
   ]
  },
  {
   "cell_type": "code",
   "execution_count": 55,
   "id": "86769d8c",
   "metadata": {},
   "outputs": [
    {
     "name": "stdout",
     "output_type": "stream",
     "text": [
      "Array 1 :\n",
      " [[ 0  6  6]\n",
      " [ 7  4  2]\n",
      " [ 7  5 10]\n",
      " [ 2  0  2]]\n",
      "Array 2 :\n",
      " [[ 4  2  0]\n",
      " [ 4  9  6]\n",
      " [ 6 10  8]\n",
      " [ 9  9  2]]\n"
     ]
    }
   ],
   "source": [
    "# Create two arrays of random integers between 0 to 10 both of size (4, 3)\n",
    "\n",
    "array1 = np.random.randint(0, 11, size = (4, 3))\n",
    "array2 = np.random.randint(0, 11, size = (4, 3))\n",
    "\n",
    "print(f\"Array 1 :\\n\", array1)\n",
    "print(f\"Array 2 :\\n\", array2)"
   ]
  },
  {
   "cell_type": "code",
   "execution_count": 65,
   "id": "6d6d7d20",
   "metadata": {},
   "outputs": [
    {
     "name": "stdout",
     "output_type": "stream",
     "text": [
      "Original arrays:\n",
      "[[1 2 3]\n",
      " [3 4 6]\n",
      " [5 6 7]]\n",
      "[ 9  8 10]\n",
      "Dot product of the said two arrays:\n",
      "[ 55 119 163]\n"
     ]
    }
   ],
   "source": [
    "# Perform a dot product on the two newest arrays you created\n",
    "\n",
    "nums1 = np.array([[1, 2, 3], [3, 4, 6], [5, 6, 7]])\n",
    "nums2 = np.array([9, 8, 10])\n",
    "print(\"Original arrays:\")\n",
    "print(nums1)\n",
    "print(nums2)\n",
    "# Find the dot product\n",
    "arr_dot3 = np.dot(nums1, nums2)\n",
    "# Print the result\n",
    "print(\"Dot product of the said two arrays:\")\n",
    "print(result)"
   ]
  },
  {
   "cell_type": "markdown",
   "id": "838e9293",
   "metadata": {},
   "source": [
    "It doesn't work. How would you fix it?\n",
    "\n",
    "Ans: tansposing the 2nd Array."
   ]
  },
  {
   "cell_type": "code",
   "execution_count": 66,
   "id": "b686c0e2",
   "metadata": {},
   "outputs": [
    {
     "data": {
      "text/plain": [
       "array([ 83, 110, 145])"
      ]
     },
     "execution_count": 66,
     "metadata": {},
     "output_type": "execute_result"
    }
   ],
   "source": [
    "# Take the latest two arrays, perform a transpose on one of them and then perform \n",
    "# a dot product on them both\n",
    "nums3 = nums1.T\n",
    "arr_dot4 = np.dot(nums3, nums2)\n",
    "arr_dot4"
   ]
  },
  {
   "cell_type": "markdown",
   "id": "df1fa1a5",
   "metadata": {},
   "source": [
    "Notice how performing a transpose allows the dot product to happen.\n",
    "\n",
    "Why is this?\n",
    "\n",
    "Performing a transpose allows the dot product to happen because of the way matrix multiplication is defined and the requirements for the dimensions of matrices involved in the operation.\n",
    "\n",
    "In matrix multiplication (dot product), the number of columns in the first matrix must be equal to the number of rows in the second matrix for the multiplication to be defined and valid. If the matrices don't have compatible dimensions, the multiplication cannot be performed.\n",
    "\n",
    "When perform a transpose on a matrix, you effectively interchange its rows and columns. This operation changes the dimensions of the matrix. If the original matrix's rows are equal to the columns of the other matrix, then after transposing, the rows of one matrix will match the rows of the other matrix, and the dot product can be computed.\n",
    "\n",
    "Checking out the documentation on np.dot() may help, as well as reading Math is Fun's guide on the dot product.\n",
    "\n",
    "Let's now compare arrays."
   ]
  },
  {
   "cell_type": "code",
   "execution_count": 67,
   "id": "ddd37af3",
   "metadata": {},
   "outputs": [
    {
     "name": "stdout",
     "output_type": "stream",
     "text": [
      "Array 1 :\n",
      " [[ 6  0  3  3]\n",
      " [ 4  6  6 10]\n",
      " [ 3  6 10  2]\n",
      " [ 5  1  9  8]\n",
      " [ 4  5  3 10]\n",
      " [ 9  6  8  6]]\n",
      "Array 2 :\n",
      " [[ 0  0  8 10]\n",
      " [ 8  3  8  2]\n",
      " [ 6  5  7 10]\n",
      " [ 8  4  0  2]\n",
      " [ 9  7 10  5]\n",
      " [ 7  8  3  0]]\n"
     ]
    }
   ],
   "source": [
    "# Create two arrays of random integers between 0 & 10 of the same shape\n",
    "# and save them to variables\n",
    "\n",
    "array_1 = np.random.randint(0, 11, size = (6, 4))\n",
    "array_2 = np.random.randint(0, 11, size = (6, 4))\n",
    "\n",
    "print(f\"Array 1 :\\n\", array_1)\n",
    "print(f\"Array 2 :\\n\", array_2)"
   ]
  },
  {
   "cell_type": "code",
   "execution_count": 68,
   "id": "75fb5e9d",
   "metadata": {},
   "outputs": [
    {
     "name": "stdout",
     "output_type": "stream",
     "text": [
      "[[ True False False False]\n",
      " [False  True False  True]\n",
      " [False  True  True False]\n",
      " [False False  True  True]\n",
      " [False False False  True]\n",
      " [ True False  True  True]]\n"
     ]
    }
   ],
   "source": [
    "# Compare the two arrays with '>'\n",
    "\n",
    "arr_grt = array_1 > array_2\n",
    "print(arr_grt)"
   ]
  },
  {
   "cell_type": "markdown",
   "id": "660e3d38",
   "metadata": {},
   "source": [
    "What happens when you compare the arrays with >?\n",
    "\n",
    "When we compare two arrays using the > operator, element-wise comparison is performed between the corresponding elements of the arrays. The result is a new array with the same shape as the original arrays, where each element is a boolean value (True or False) indicating whether the comparison is true for that element."
   ]
  },
  {
   "cell_type": "code",
   "execution_count": 70,
   "id": "1f563d40",
   "metadata": {},
   "outputs": [
    {
     "name": "stdout",
     "output_type": "stream",
     "text": [
      "[[ True  True False False]\n",
      " [False  True False  True]\n",
      " [False  True  True False]\n",
      " [False False  True  True]\n",
      " [False False False  True]\n",
      " [ True False  True  True]]\n"
     ]
    }
   ],
   "source": [
    "# Compare the two arrays with '>='\n",
    "\n",
    "arr_grteq = array_1 >= array_2\n",
    "print(arr_grteq)"
   ]
  },
  {
   "cell_type": "code",
   "execution_count": 71,
   "id": "469399a0",
   "metadata": {},
   "outputs": [
    {
     "name": "stdout",
     "output_type": "stream",
     "text": [
      "Elements of 1st Array greater than 7 :  [10 10  9  8 10  9  8]\n"
     ]
    }
   ],
   "source": [
    "# Find which elements of the first array are greater than 7\n",
    "element = array_1 > 7\n",
    "greater = array_1[element]\n",
    "print(\"Elements of 1st Array greater than 7 : \",greater)"
   ]
  },
  {
   "cell_type": "code",
   "execution_count": 72,
   "id": "88b3147c",
   "metadata": {},
   "outputs": [
    {
     "name": "stdout",
     "output_type": "stream",
     "text": [
      "[[False  True False False]\n",
      " [False False False False]\n",
      " [False False False False]\n",
      " [False False False False]\n",
      " [False False False False]\n",
      " [False False False False]]\n"
     ]
    }
   ],
   "source": [
    "# Which parts of each array are equal? (try using '==')\n",
    "\n",
    "arr_equal = array_1 == array_2\n",
    "print(arr_equal)"
   ]
  },
  {
   "cell_type": "code",
   "execution_count": 73,
   "id": "b0536dee",
   "metadata": {},
   "outputs": [
    {
     "name": "stdout",
     "output_type": "stream",
     "text": [
      "Original Array : \n",
      " [[ 6  0  3  3]\n",
      " [ 4  6  6 10]\n",
      " [ 3  6 10  2]\n",
      " [ 5  1  9  8]\n",
      " [ 4  5  3 10]\n",
      " [ 9  6  8  6]]\n",
      " Array after Sorting : \n",
      " [[ 0  3  3  6]\n",
      " [ 4  6  6 10]\n",
      " [ 2  3  6 10]\n",
      " [ 1  5  8  9]\n",
      " [ 3  4  5 10]\n",
      " [ 6  6  8  9]]\n"
     ]
    }
   ],
   "source": [
    "# Sort one of the arrays you just created in ascending order\n",
    "\n",
    "sort_arr = np.sort(array_1)\n",
    "\n",
    "print(f\"Original Array : \\n\", array_1)\n",
    "print(f\" Array after Sorting : \\n\", sort_arr)"
   ]
  },
  {
   "cell_type": "code",
   "execution_count": 74,
   "id": "979b33e2",
   "metadata": {},
   "outputs": [
    {
     "name": "stdout",
     "output_type": "stream",
     "text": [
      "Original Array : \n",
      " [[ 6  0  3  3]\n",
      " [ 4  6  6 10]\n",
      " [ 3  6 10  2]\n",
      " [ 5  1  9  8]\n",
      " [ 4  5  3 10]\n",
      " [ 9  6  8  6]]\n",
      " Array after Index Sorting : \n",
      " [[1 2 3 0]\n",
      " [0 1 2 3]\n",
      " [3 0 1 2]\n",
      " [1 0 3 2]\n",
      " [2 0 1 3]\n",
      " [1 3 2 0]]\n"
     ]
    }
   ],
   "source": [
    "# Sort the indexes of one of the arrays you just created\n",
    "\n",
    "sort_idx = np.argsort(array_1)\n",
    "\n",
    "print(f\"Original Array : \\n\", array_1)\n",
    "print(f\" Array after Index Sorting : \\n\", sort_idx)"
   ]
  },
  {
   "cell_type": "code",
   "execution_count": 75,
   "id": "018dee80",
   "metadata": {},
   "outputs": [
    {
     "name": "stdout",
     "output_type": "stream",
     "text": [
      "Original Array : \n",
      " [[ 6  0  3  3]\n",
      " [ 4  6  6 10]\n",
      " [ 3  6 10  2]\n",
      " [ 5  1  9  8]\n",
      " [ 4  5  3 10]\n",
      " [ 9  6  8  6]]\n",
      "\n",
      "Index of Maximum Value: 7\n",
      "Row Index of Maximum Value: 1\n",
      "Column Index of Maximum Value: 3\n"
     ]
    }
   ],
   "source": [
    "# Find the index with the maximum value in one of the arrays you've created\n",
    "\n",
    "max_idx = np.argmax(array_1)\n",
    "num_col = array_1.shape[1]\n",
    "row_idx = max_idx // num_col\n",
    "col_idx = max_idx % num_col\n",
    "\n",
    "print(f\"Original Array : \\n\", array_1)\n",
    "print(\"\\nIndex of Maximum Value:\", max_idx)\n",
    "print(\"Row Index of Maximum Value:\", row_idx)\n",
    "print(\"Column Index of Maximum Value:\", col_idx)"
   ]
  },
  {
   "cell_type": "code",
   "execution_count": 76,
   "id": "965b75bf",
   "metadata": {},
   "outputs": [
    {
     "name": "stdout",
     "output_type": "stream",
     "text": [
      "Array :\n",
      "[[ 6  0  3  3]\n",
      " [ 4  6  6 10]\n",
      " [ 3  6 10  2]\n",
      " [ 5  1  9  8]\n",
      " [ 4  5  3 10]\n",
      " [ 9  6  8  6]]\n",
      "\n",
      "Index of Minimum Value: 1\n",
      "Row Index of Minimum Value: 0\n",
      "Column Index of Minimum Value: 1\n"
     ]
    }
   ],
   "source": [
    "# Find the index with the minimum value in one of the arrays you've created\n",
    "\n",
    "min_idx = np.argmin(array_1)\n",
    "\n",
    "# Convert the flattened index to row and column indices\n",
    "row_idx, col_idx = np.unravel_index(min_idx, array_1.shape)\n",
    "\n",
    "print(\"Array :\")\n",
    "print(array_1)\n",
    "\n",
    "print(\"\\nIndex of Minimum Value:\", min_idx)\n",
    "print(\"Row Index of Minimum Value:\", row_idx)\n",
    "print(\"Column Index of Minimum Value:\", col_idx)"
   ]
  },
  {
   "cell_type": "code",
   "execution_count": 77,
   "id": "1e04ee24",
   "metadata": {},
   "outputs": [
    {
     "name": "stdout",
     "output_type": "stream",
     "text": [
      "Array : \n",
      " [[ 6  0  3  3]\n",
      " [ 4  6  6 10]\n",
      " [ 3  6 10  2]\n",
      " [ 5  1  9  8]\n",
      " [ 4  5  3 10]\n",
      " [ 9  6  8  6]]\n",
      "\n",
      "Index with Minimum valus across the Axis-0 :  [2 0 0 2]\n"
     ]
    }
   ],
   "source": [
    "# Find the indexes with the minimum values across the 0th axis (axis=0) of one of the arrays you created\n",
    "\n",
    "idx_min = np.argmin(array_1, axis = 0)\n",
    "print(f\"Array : \\n\", array_1)\n",
    "print(f\"\\nIndex with Minimum valus across the Axis-0 : \", idx_min)"
   ]
  },
  {
   "cell_type": "code",
   "execution_count": 78,
   "id": "8be3e280",
   "metadata": {},
   "outputs": [
    {
     "name": "stdout",
     "output_type": "stream",
     "text": [
      "Array of normally Distributed Random Numbers : \n",
      " [-0.01548334 -0.02737645  0.81787351 -1.05460447 -0.75832712  0.45741565\n",
      " -0.06437805  0.34490234 -0.08008734 -0.24138013]\n"
     ]
    }
   ],
   "source": [
    "# Create an array of normally distributed random numbers\n",
    "\n",
    "mean = 0\n",
    "std = 1\n",
    "num = 10\n",
    "\n",
    "\n",
    "rand_num = np.random.normal(mean, std, num)\n",
    "\n",
    "print(f\"Array of normally Distributed Random Numbers : \\n\", rand_num)"
   ]
  },
  {
   "cell_type": "code",
   "execution_count": 80,
   "id": "ba9ca120",
   "metadata": {},
   "outputs": [
    {
     "name": "stdout",
     "output_type": "stream",
     "text": [
      " Array with 10 Evenly Spaced Numbers : \n",
      " [  1.  12.  23.  34.  45.  56.  67.  78.  89. 100.]\n"
     ]
    }
   ],
   "source": [
    "# Create an array with 10 evenly spaced numbers between 1 and 100\n",
    "\n",
    "start = 1\n",
    "end = 100\n",
    "space = 10\n",
    "\n",
    "evenly_arr = np.linspace(start, end, space)\n",
    "\n",
    "print(f\" Array with 10 Evenly Spaced Numbers : \\n\", evenly_arr)"
   ]
  },
  {
   "cell_type": "code",
   "execution_count": null,
   "id": "70484a34",
   "metadata": {},
   "outputs": [],
   "source": []
  }
 ],
 "metadata": {
  "kernelspec": {
   "display_name": "Python 3 (ipykernel)",
   "language": "python",
   "name": "python3"
  },
  "language_info": {
   "codemirror_mode": {
    "name": "ipython",
    "version": 3
   },
   "file_extension": ".py",
   "mimetype": "text/x-python",
   "name": "python",
   "nbconvert_exporter": "python",
   "pygments_lexer": "ipython3",
   "version": "3.10.12"
  }
 },
 "nbformat": 4,
 "nbformat_minor": 5
}
