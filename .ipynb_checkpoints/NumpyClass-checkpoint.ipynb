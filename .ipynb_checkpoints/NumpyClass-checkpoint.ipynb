{
 "cells": [
  {
   "cell_type": "markdown",
   "id": "5887467e",
   "metadata": {},
   "source": []
  },
  {
   "cell_type": "code",
   "execution_count": 4,
   "id": "a8f976de",
   "metadata": {},
   "outputs": [
    {
     "name": "stdout",
     "output_type": "stream",
     "text": [
      "Collecting numpy\n",
      "  Downloading numpy-1.25.1-cp310-cp310-win_amd64.whl (15.0 MB)\n",
      "                                              0.0/15.0 MB ? eta -:--:--\n",
      "                                              0.0/15.0 MB ? eta -:--:--\n",
      "                                             0.0/15.0 MB 325.1 kB/s eta 0:00:47\n",
      "                                             0.1/15.0 MB 901.1 kB/s eta 0:00:17\n",
      "     -                                        0.5/15.0 MB 2.6 MB/s eta 0:00:06\n",
      "     ---                                      1.2/15.0 MB 5.2 MB/s eta 0:00:03\n",
      "     -------                                  2.7/15.0 MB 9.6 MB/s eta 0:00:02\n",
      "     -----------                              4.2/15.0 MB 12.7 MB/s eta 0:00:01\n",
      "     ---------------                          5.8/15.0 MB 15.3 MB/s eta 0:00:01\n",
      "     -------------------                      7.2/15.0 MB 17.7 MB/s eta 0:00:01\n",
      "     ---------------------                    8.0/15.0 MB 18.3 MB/s eta 0:00:01\n",
      "     ---------------------                    8.0/15.0 MB 18.3 MB/s eta 0:00:01\n",
      "     --------------------------              10.1/15.0 MB 17.9 MB/s eta 0:00:01\n",
      "     ----------------------------            11.2/15.0 MB 25.2 MB/s eta 0:00:01\n",
      "     -------------------------------         12.2/15.0 MB 25.2 MB/s eta 0:00:01\n",
      "     ----------------------------------      13.4/15.0 MB 26.2 MB/s eta 0:00:01\n",
      "     --------------------------------------  14.7/15.0 MB 25.2 MB/s eta 0:00:01\n",
      "     --------------------------------------  15.0/15.0 MB 25.2 MB/s eta 0:00:01\n",
      "     --------------------------------------  15.0/15.0 MB 25.2 MB/s eta 0:00:01\n",
      "     --------------------------------------  15.0/15.0 MB 25.2 MB/s eta 0:00:01\n",
      "     --------------------------------------  15.0/15.0 MB 25.2 MB/s eta 0:00:01\n",
      "     --------------------------------------  15.0/15.0 MB 25.2 MB/s eta 0:00:01\n",
      "     --------------------------------------  15.0/15.0 MB 25.2 MB/s eta 0:00:01\n",
      "     --------------------------------------  15.0/15.0 MB 25.2 MB/s eta 0:00:01\n",
      "     --------------------------------------- 15.0/15.0 MB 13.6 MB/s eta 0:00:00\n",
      "Installing collected packages: numpy\n",
      "Successfully installed numpy-1.25.1\n",
      "Note: you may need to restart the kernel to use updated packages.\n"
     ]
    }
   ],
   "source": [
    "pip install numpy"
   ]
  },
  {
   "cell_type": "code",
   "execution_count": 9,
   "id": "3ae7d191",
   "metadata": {},
   "outputs": [
    {
     "name": "stdout",
     "output_type": "stream",
     "text": [
      "1-D, Array is\n",
      "[10 15 18 20 25]\n",
      "*************************\n",
      "<class 'numpy.ndarray'>\n",
      "int32\n"
     ]
    }
   ],
   "source": [
    "import numpy as np\n",
    "arr=np.array([10,15,18,20,25])\n",
    "print('1-D, Array is')\n",
    "print(arr)\n",
    "print('*'*25)\n",
    "print(type(arr))\n",
    "print(arr.dtype)"
   ]
  },
  {
   "cell_type": "code",
   "execution_count": 6,
   "id": "dfc946a2",
   "metadata": {},
   "outputs": [
    {
     "name": "stdout",
     "output_type": "stream",
     "text": [
      "1-D, Array is\n",
      "[10. +0.j 15.1+0.j 18. +4.j 20. +0.j 25. +0.j]\n",
      "*************************\n",
      "<class 'numpy.ndarray'>\n",
      "complex128\n"
     ]
    }
   ],
   "source": [
    "import numpy\n",
    "arr=numpy.array([10,15.1,18+4j,20,25])\n",
    "print('1-D, Array is')\n",
    "print(arr)\n",
    "print('*'*25)\n",
    "print(type(arr))\n",
    "print(arr.dtype)"
   ]
  },
  {
   "cell_type": "code",
   "execution_count": 12,
   "id": "8346965f",
   "metadata": {},
   "outputs": [
    {
     "name": "stdout",
     "output_type": "stream",
     "text": [
      "(5,)\n",
      "1\n",
      "5\n",
      "int32\n",
      "4\n"
     ]
    }
   ],
   "source": [
    "print(arr.shape)\n",
    "print(arr.ndim)\n",
    "print(arr.size)\n",
    "print(arr.dtype)\n",
    "print(arr.itemsize)"
   ]
  },
  {
   "cell_type": "code",
   "execution_count": 14,
   "id": "ec636f1d",
   "metadata": {},
   "outputs": [
    {
     "name": "stdout",
     "output_type": "stream",
     "text": [
      "[ 0  1  2  3  4  5  6  7  8  9 10]\n"
     ]
    }
   ],
   "source": [
    "import numpy as mp\n",
    "ar = np.arange(11)\n",
    "print(ar)"
   ]
  },
  {
   "cell_type": "code",
   "execution_count": 19,
   "id": "3b75816f",
   "metadata": {},
   "outputs": [
    {
     "ename": "NameError",
     "evalue": "name 'ar1' is not defined",
     "output_type": "error",
     "traceback": [
      "\u001b[1;31m---------------------------------------------------------------------------\u001b[0m",
      "\u001b[1;31mNameError\u001b[0m                                 Traceback (most recent call last)",
      "Cell \u001b[1;32mIn[19], line 1\u001b[0m\n\u001b[1;32m----> 1\u001b[0m ar \u001b[38;5;241m=\u001b[39m np\u001b[38;5;241m.\u001b[39mappend(\u001b[43mar1\u001b[49m,\u001b[38;5;241m11\u001b[39m)\n\u001b[0;32m      2\u001b[0m \u001b[38;5;28mprint\u001b[39m(ar)\n",
      "\u001b[1;31mNameError\u001b[0m: name 'ar1' is not defined"
     ]
    }
   ],
   "source": [
    "ar = np.append(ar1,11)\n",
    "print(ar)"
   ]
  },
  {
   "cell_type": "code",
   "execution_count": 29,
   "id": "e5cc604b",
   "metadata": {},
   "outputs": [
    {
     "name": "stdout",
     "output_type": "stream",
     "text": [
      "[0.         1.         1.41421356 1.73205081 2.         2.23606798\n",
      " 2.44948974]\n",
      "2.0\n",
      "[  1.           2.71828183   7.3890561   20.08553692  54.59815003\n",
      " 148.4131591  403.42879349]\n",
      "3.0\n",
      "3.0\n"
     ]
    }
   ],
   "source": [
    "# Statiscal Operation\n",
    "arr=np.arange(7)\n",
    "print(np.sqrt(arr))\n",
    "print(np.std(arr))\n",
    "print(np.exp(arr))\n",
    "print(np.mean(arr))\n",
    "print(np.median(arr))\n"
   ]
  },
  {
   "cell_type": "code",
   "execution_count": 32,
   "id": "400b8ff0",
   "metadata": {},
   "outputs": [
    {
     "name": "stdout",
     "output_type": "stream",
     "text": [
      "Addition [ 6  8 10 12 14 16]\n",
      "Subraction [-6 -6 -6 -6 -6 -6]\n",
      "Multiplication [ 0  7 16 27 40 55]\n",
      "Division [0.         0.14285714 0.25       0.33333333 0.4        0.45454545]\n",
      "Float Division [0 0 0 0 0 0]\n"
     ]
    }
   ],
   "source": [
    "# Arithmetic operators\n",
    "a=np.arange(6)\n",
    "b=np.arange(6,12)\n",
    "print('Addition', a+b)\n",
    "print('Subraction', a-b)\n",
    "print('Multiplication', a*b)\n",
    "print('Division', a/b)\n",
    "print('Float Division', a//b)\n"
   ]
  },
  {
   "cell_type": "code",
   "execution_count": 34,
   "id": "0d3c184c",
   "metadata": {},
   "outputs": [
    {
     "name": "stdout",
     "output_type": "stream",
     "text": [
      "[0. 0. 0. 0. 0. 0. 0. 0. 0. 0.]\n"
     ]
    }
   ],
   "source": [
    "zero=np.zeros(10)\n",
    "print(zero)"
   ]
  },
  {
   "cell_type": "raw",
   "id": "457ab75f",
   "metadata": {},
   "source": []
  },
  {
   "cell_type": "code",
   "execution_count": 35,
   "id": "f0343fa2",
   "metadata": {},
   "outputs": [
    {
     "name": "stdout",
     "output_type": "stream",
     "text": [
      "[1. 1. 1. 1. 1. 1. 1. 1. 1. 1.]\n"
     ]
    }
   ],
   "source": [
    "one=np.ones(10)\n",
    "print(one)"
   ]
  },
  {
   "cell_type": "code",
   "execution_count": null,
   "id": "ddf95841",
   "metadata": {},
   "outputs": [],
   "source": []
  }
 ],
 "metadata": {
  "kernelspec": {
   "display_name": "Python 3 (ipykernel)",
   "language": "python",
   "name": "python3"
  },
  "language_info": {
   "codemirror_mode": {
    "name": "ipython",
    "version": 3
   },
   "file_extension": ".py",
   "mimetype": "text/x-python",
   "name": "python",
   "nbconvert_exporter": "python",
   "pygments_lexer": "ipython3",
   "version": "3.10.12"
  }
 },
 "nbformat": 4,
 "nbformat_minor": 5
}
