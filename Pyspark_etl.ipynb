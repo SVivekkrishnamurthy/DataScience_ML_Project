{
 "cells": [
  {
   "cell_type": "code",
   "execution_count": 1,
   "id": "187b0de6",
   "metadata": {},
   "outputs": [
    {
     "data": {
      "text/plain": [
       "'C:\\\\anaconda3\\\\envs\\\\DataScience\\\\Lib\\\\site-packages\\\\pyspark'"
      ]
     },
     "execution_count": 1,
     "metadata": {},
     "output_type": "execute_result"
    }
   ],
   "source": [
    "import findspark\n",
    "findspark.init()\n",
    "findspark.find()"
   ]
  },
  {
   "cell_type": "code",
   "execution_count": 31,
   "id": "340c6686",
   "metadata": {},
   "outputs": [],
   "source": [
    "from pyspark.sql import SparkSession\n",
    "from pyspark.sql.types import IntegerType,BooleanType,DateType\n",
    "spark = SparkSession.builder\\\n",
    "        .master(\"local[*]\")\\\n",
    "        .appName('PySpark_Tutorial')\\\n",
    "        .getOrCreate()"
   ]
  },
  {
   "cell_type": "code",
   "execution_count": 32,
   "id": "e596063e",
   "metadata": {},
   "outputs": [
    {
     "name": "stdout",
     "output_type": "stream",
     "text": [
      "root\n",
      " |-- User ID: string (nullable = true)\n",
      " |-- Subscription Type: string (nullable = true)\n",
      " |-- Monthly Revenue: string (nullable = true)\n",
      " |-- Join Date: string (nullable = true)\n",
      " |-- Last Payment Date: string (nullable = true)\n",
      " |-- Country: string (nullable = true)\n",
      " |-- Age: string (nullable = true)\n",
      " |-- Gender: string (nullable = true)\n",
      " |-- Device: string (nullable = true)\n",
      " |-- Plan Duration: string (nullable = true)\n",
      "\n"
     ]
    }
   ],
   "source": [
    "# Reading CSV file\n",
    "\n",
    "csv_file = 'C:/Users/vsubramanian/Desktop/Python/Data/NetflixUserbase.csv'\n",
    "df = spark.read.csv(csv_file,\n",
    "                    sep = ',',\n",
    "                    header = True,\n",
    "                   )\n",
    "df.printSchema()"
   ]
  },
  {
   "cell_type": "code",
   "execution_count": 33,
   "id": "bfbbda7a",
   "metadata": {},
   "outputs": [
    {
     "name": "stdout",
     "output_type": "stream",
     "text": [
      "root\n",
      " |-- User_ID: string (nullable = true)\n",
      " |-- Subscription_Type: string (nullable = true)\n",
      " |-- Monthly_Revenue: double (nullable = true)\n",
      " |-- Join_Date: string (nullable = true)\n",
      " |-- LastPayment_Date: string (nullable = true)\n",
      " |-- Country: string (nullable = true)\n",
      " |-- Age: integer (nullable = true)\n",
      " |-- Gender: string (nullable = true)\n",
      " |-- Device: string (nullable = true)\n",
      " |-- Plan_Duration: string (nullable = true)\n",
      "\n"
     ]
    }
   ],
   "source": [
    "from pyspark.sql.types import *\n",
    "from pyspark.sql.functions import to_date,col\n",
    "\n",
    "data_schema = [\n",
    "               StructField('User_ID', StringType(), True),\n",
    "               StructField('Subscription_Type', StringType(), True),\n",
    "               StructField('Monthly_Revenue', DoubleType(), True),\n",
    "               StructField('Join_Date', StringType(), True),\n",
    "               StructField('LastPayment_Date', StringType(), True),\n",
    "               StructField('Country', StringType(), True),\n",
    "               StructField('Age', IntegerType(), True),\n",
    "               StructField('Gender', StringType(), True),\n",
    "               StructField('Device', StringType(), True),\n",
    "               StructField('Plan_Duration', StringType(), True),\n",
    "            ]\n",
    "\n",
    "final_struc = StructType(fields = data_schema)\n",
    "\n",
    "data = spark.read.csv(\n",
    "    csv_file,\n",
    "    sep = ',',\n",
    "    header = True,\n",
    "    schema = final_struc \n",
    "    )\n",
    "\n",
    "data.printSchema()"
   ]
  },
  {
   "cell_type": "code",
   "execution_count": 39,
   "id": "c5e044de",
   "metadata": {},
   "outputs": [
    {
     "name": "stdout",
     "output_type": "stream",
     "text": [
      "+-------+-----------------+---------------+----------+----------------+--------------+---+------+----------+-------------+\n",
      "|User_ID|Subscription_Type|Monthly_Revenue| Join_Date|LastPayment_Date|       Country|Age|Gender|    Device|Plan_Duration|\n",
      "+-------+-----------------+---------------+----------+----------------+--------------+---+------+----------+-------------+\n",
      "|      1|            Basic|           10.0|2022-01-15|      2023-06-10| United States| 28|  Male|Smartphone|      1 Month|\n",
      "|      2|          Premium|           15.0|2021-09-05|      2023-06-22|        Canada| 35|Female|    Tablet|      1 Month|\n",
      "|      3|         Standard|           12.0|2023-02-28|      2023-06-27|United Kingdom| 42|  Male|  Smart TV|      1 Month|\n",
      "|      4|         Standard|           12.0|2022-07-10|      2023-06-26|     Australia| 51|Female|    Laptop|      1 Month|\n",
      "|      5|            Basic|           10.0|2023-05-01|      2023-06-28|       Germany| 33|  Male|Smartphone|      1 Month|\n",
      "|      6|          Premium|           15.0|2022-03-18|      2023-06-27|        France| 29|Female|  Smart TV|      1 Month|\n",
      "|      7|         Standard|           12.0|2021-12-09|      2023-06-25|        Brazil| 46|  Male|    Tablet|      1 Month|\n",
      "|      8|            Basic|           10.0|2023-04-02|      2023-06-24|        Mexico| 39|Female|    Laptop|      1 Month|\n",
      "|      9|         Standard|           12.0|2022-10-20|      2023-06-23|         Spain| 37|  Male|Smartphone|      1 Month|\n",
      "|     10|          Premium|           15.0|2023-01-07|      2023-06-22|         Italy| 44|Female|  Smart TV|      1 Month|\n",
      "|     11|            Basic|           10.0|2022-05-16|      2023-06-22| United States| 31|Female|Smartphone|      1 Month|\n",
      "|     12|          Premium|           15.0|2023-03-23|      2023-06-28|        Canada| 45|  Male|    Tablet|      1 Month|\n",
      "|     13|         Standard|           12.0|2021-11-30|      2023-06-27|United Kingdom| 48|Female|    Laptop|      1 Month|\n",
      "|     14|            Basic|           10.0|2022-08-01|      2023-06-26|     Australia| 27|  Male|Smartphone|      1 Month|\n",
      "|     15|         Standard|           12.0|2023-05-09|      2023-06-28|       Germany| 38|Female|  Smart TV|      1 Month|\n",
      "|     16|          Premium|           15.0|2022-04-07|      2023-06-27|        France| 36|  Male|    Tablet|      1 Month|\n",
      "|     17|            Basic|           10.0|2022-01-24|      2023-06-25|        Brazil| 30|Female|    Laptop|      1 Month|\n",
      "|     18|         Standard|           12.0|2021-10-18|      2023-06-24|        Mexico| 43|  Male|Smartphone|      1 Month|\n",
      "|     19|          Premium|           15.0|2023-02-15|      2023-06-23|         Spain| 32|Female|  Smart TV|      1 Month|\n",
      "|     20|            Basic|           10.0|2023-05-27|      2023-06-22|         Italy| 41|  Male|    Tablet|      1 Month|\n",
      "+-------+-----------------+---------------+----------+----------------+--------------+---+------+----------+-------------+\n",
      "only showing top 20 rows\n",
      "\n"
     ]
    }
   ],
   "source": [
    "data = data.withColumn(\"LastPayment_Date\",to_date(\"LastPayment_Date\", \"dd-MM-yy\"))\n",
    "data = data.withColumn(\"Join_Date\",to_date(\"Join_Date\", \"dd-MM-yy\"))\n",
    "data.show()"
   ]
  },
  {
   "cell_type": "code",
   "execution_count": 40,
   "id": "f8d3500b",
   "metadata": {},
   "outputs": [
    {
     "data": {
      "text/plain": [
       "[('User_ID', 'string'),\n",
       " ('Subscription_Type', 'string'),\n",
       " ('Monthly_Revenue', 'double'),\n",
       " ('Join_Date', 'date'),\n",
       " ('LastPayment_Date', 'date'),\n",
       " ('Country', 'string'),\n",
       " ('Age', 'int'),\n",
       " ('Gender', 'string'),\n",
       " ('Device', 'string'),\n",
       " ('Plan_Duration', 'string')]"
      ]
     },
     "execution_count": 40,
     "metadata": {},
     "output_type": "execute_result"
    }
   ],
   "source": [
    "data.dtypes"
   ]
  },
  {
   "cell_type": "code",
   "execution_count": 41,
   "id": "c8187640",
   "metadata": {},
   "outputs": [
    {
     "data": {
      "text/plain": [
       "[Row(User_ID='1', Subscription_Type='Basic', Monthly_Revenue=10.0, Join_Date=datetime.date(2022, 1, 15), LastPayment_Date=datetime.date(2023, 6, 10), Country='United States', Age=28, Gender='Male', Device='Smartphone', Plan_Duration='1 Month'),\n",
       " Row(User_ID='2', Subscription_Type='Premium', Monthly_Revenue=15.0, Join_Date=datetime.date(2021, 9, 5), LastPayment_Date=datetime.date(2023, 6, 22), Country='Canada', Age=35, Gender='Female', Device='Tablet', Plan_Duration='1 Month'),\n",
       " Row(User_ID='3', Subscription_Type='Standard', Monthly_Revenue=12.0, Join_Date=datetime.date(2023, 2, 28), LastPayment_Date=datetime.date(2023, 6, 27), Country='United Kingdom', Age=42, Gender='Male', Device='Smart TV', Plan_Duration='1 Month')]"
      ]
     },
     "execution_count": 41,
     "metadata": {},
     "output_type": "execute_result"
    }
   ],
   "source": [
    "data.head(3)"
   ]
  },
  {
   "cell_type": "code",
   "execution_count": 42,
   "id": "2e7bd641",
   "metadata": {},
   "outputs": [
    {
     "name": "stdout",
     "output_type": "stream",
     "text": [
      "+-------+-----------------+---------------+----------+----------------+--------------+---+------+----------+-------------+\n",
      "|User_ID|Subscription_Type|Monthly_Revenue| Join_Date|LastPayment_Date|       Country|Age|Gender|    Device|Plan_Duration|\n",
      "+-------+-----------------+---------------+----------+----------------+--------------+---+------+----------+-------------+\n",
      "|      1|            Basic|           10.0|2022-01-15|      2023-06-10| United States| 28|  Male|Smartphone|      1 Month|\n",
      "|      2|          Premium|           15.0|2021-09-05|      2023-06-22|        Canada| 35|Female|    Tablet|      1 Month|\n",
      "|      3|         Standard|           12.0|2023-02-28|      2023-06-27|United Kingdom| 42|  Male|  Smart TV|      1 Month|\n",
      "|      4|         Standard|           12.0|2022-07-10|      2023-06-26|     Australia| 51|Female|    Laptop|      1 Month|\n",
      "|      5|            Basic|           10.0|2023-05-01|      2023-06-28|       Germany| 33|  Male|Smartphone|      1 Month|\n",
      "|      6|          Premium|           15.0|2022-03-18|      2023-06-27|        France| 29|Female|  Smart TV|      1 Month|\n",
      "|      7|         Standard|           12.0|2021-12-09|      2023-06-25|        Brazil| 46|  Male|    Tablet|      1 Month|\n",
      "|      8|            Basic|           10.0|2023-04-02|      2023-06-24|        Mexico| 39|Female|    Laptop|      1 Month|\n",
      "|      9|         Standard|           12.0|2022-10-20|      2023-06-23|         Spain| 37|  Male|Smartphone|      1 Month|\n",
      "|     10|          Premium|           15.0|2023-01-07|      2023-06-22|         Italy| 44|Female|  Smart TV|      1 Month|\n",
      "|     11|            Basic|           10.0|2022-05-16|      2023-06-22| United States| 31|Female|Smartphone|      1 Month|\n",
      "|     12|          Premium|           15.0|2023-03-23|      2023-06-28|        Canada| 45|  Male|    Tablet|      1 Month|\n",
      "|     13|         Standard|           12.0|2021-11-30|      2023-06-27|United Kingdom| 48|Female|    Laptop|      1 Month|\n",
      "|     14|            Basic|           10.0|2022-08-01|      2023-06-26|     Australia| 27|  Male|Smartphone|      1 Month|\n",
      "|     15|         Standard|           12.0|2023-05-09|      2023-06-28|       Germany| 38|Female|  Smart TV|      1 Month|\n",
      "|     16|          Premium|           15.0|2022-04-07|      2023-06-27|        France| 36|  Male|    Tablet|      1 Month|\n",
      "|     17|            Basic|           10.0|2022-01-24|      2023-06-25|        Brazil| 30|Female|    Laptop|      1 Month|\n",
      "|     18|         Standard|           12.0|2021-10-18|      2023-06-24|        Mexico| 43|  Male|Smartphone|      1 Month|\n",
      "|     19|          Premium|           15.0|2023-02-15|      2023-06-23|         Spain| 32|Female|  Smart TV|      1 Month|\n",
      "|     20|            Basic|           10.0|2023-05-27|      2023-06-22|         Italy| 41|  Male|    Tablet|      1 Month|\n",
      "+-------+-----------------+---------------+----------+----------------+--------------+---+------+----------+-------------+\n",
      "only showing top 20 rows\n",
      "\n"
     ]
    }
   ],
   "source": [
    "data.show()"
   ]
  },
  {
   "cell_type": "code",
   "execution_count": 8,
   "id": "6aaf68d4",
   "metadata": {},
   "outputs": [
    {
     "data": {
      "text/plain": [
       "Row(User_ID='1', Subscription_Type='Basic', Monthly_Revenue=10.0, Join_Date='15-01-22', LastPayment_Date='10-06-23', Country='United States', Age=28, Gender='Male', Device='Smartphone', Plan_Duration='1 Month')"
      ]
     },
     "execution_count": 8,
     "metadata": {},
     "output_type": "execute_result"
    }
   ],
   "source": [
    "data.first()"
   ]
  },
  {
   "cell_type": "code",
   "execution_count": 9,
   "id": "6791032b",
   "metadata": {},
   "outputs": [
    {
     "name": "stdout",
     "output_type": "stream",
     "text": [
      "+-------+-----------------+-----------------+------------------+---------+----------------+-------------+-----------------+------+------+-------------+\n",
      "|summary|          User_ID|Subscription_Type|   Monthly_Revenue|Join_Date|LastPayment_Date|      Country|              Age|Gender|Device|Plan_Duration|\n",
      "+-------+-----------------+-----------------+------------------+---------+----------------+-------------+-----------------+------+------+-------------+\n",
      "|  count|             2500|             2500|              2500|     2500|            2500|         2500|             2500|  2500|  2500|         2500|\n",
      "|   mean|           1250.5|             null|           12.5084|     null|            null|         null|          38.7956|  null|  null|         null|\n",
      "| stddev|721.8321596234589|             null|1.6868513944775387|     null|            null|         null|7.171777631644684|  null|  null|         null|\n",
      "|    min|                1|            Basic|              10.0| 01-03-22|        01-07-23|    Australia|               26|Female|Laptop|      1 Month|\n",
      "|    max|              999|         Standard|              15.0| 31-10-22|        30-06-23|United States|               51|  Male|Tablet|      1 Month|\n",
      "+-------+-----------------+-----------------+------------------+---------+----------------+-------------+-----------------+------+------+-------------+\n",
      "\n"
     ]
    }
   ],
   "source": [
    "data.describe().show()"
   ]
  },
  {
   "cell_type": "code",
   "execution_count": 10,
   "id": "4afb3e3e",
   "metadata": {},
   "outputs": [
    {
     "data": {
      "text/plain": [
       "['User_ID',\n",
       " 'Subscription_Type',\n",
       " 'Monthly_Revenue',\n",
       " 'Join_Date',\n",
       " 'LastPayment_Date',\n",
       " 'Country',\n",
       " 'Age',\n",
       " 'Gender',\n",
       " 'Device',\n",
       " 'Plan_Duration']"
      ]
     },
     "execution_count": 10,
     "metadata": {},
     "output_type": "execute_result"
    }
   ],
   "source": [
    "data.columns"
   ]
  },
  {
   "cell_type": "code",
   "execution_count": 11,
   "id": "8c4c746b",
   "metadata": {},
   "outputs": [
    {
     "data": {
      "text/plain": [
       "2500"
      ]
     },
     "execution_count": 11,
     "metadata": {},
     "output_type": "execute_result"
    }
   ],
   "source": [
    "data.count()"
   ]
  },
  {
   "cell_type": "code",
   "execution_count": 12,
   "id": "64aeb21c",
   "metadata": {},
   "outputs": [
    {
     "name": "stdout",
     "output_type": "stream",
     "text": [
      "root\n",
      " |-- User ID: string (nullable = true)\n",
      " |-- Subscription Type: string (nullable = true)\n",
      " |-- Monthly Revenue: string (nullable = true)\n",
      " |-- Join Date: string (nullable = true)\n",
      " |-- Last Payment Date: string (nullable = true)\n",
      " |-- Country: string (nullable = true)\n",
      " |-- Age: string (nullable = true)\n",
      " |-- Gender: string (nullable = true)\n",
      " |-- Device: string (nullable = true)\n",
      " |-- Plan Duration: string (nullable = true)\n",
      "\n"
     ]
    }
   ],
   "source": [
    "df.printSchema()"
   ]
  },
  {
   "cell_type": "code",
   "execution_count": 43,
   "id": "486731e9",
   "metadata": {
    "scrolled": true
   },
   "outputs": [],
   "source": [
    "from pyspark.sql.functions import unix_timestamp\n",
    "from pyspark.sql.functions import *\n",
    "import pyspark.sql.functions as f"
   ]
  },
  {
   "cell_type": "code",
   "execution_count": 22,
   "id": "613b8688",
   "metadata": {},
   "outputs": [
    {
     "ename": "AnalysisException",
     "evalue": "[DATATYPE_MISMATCH.UNEXPECTED_INPUT_TYPE] Cannot resolve \"from_unixtime(LastPayment_Date, yyyy-MM-dd HH:mm:ss)\" due to data type mismatch: Parameter 1 requires the \"BIGINT\" type, however \"LastPayment_Date\" has the type \"DATE\".;\n'Project [User_ID#37, Subscription_Type#38, Monthly_Revenue#39, Join_Date#40, to_date(from_unixtime(LastPayment_Date#882, yyyy-MM-dd HH:mm:ss, Some(Asia/Calcutta)), None, Some(Asia/Calcutta)) AS LastPayment_Date#894, Country#42, Age#43, Gender#44, Device#45, Plan_Duration#46]\n+- Project [User_ID#37, Subscription_Type#38, Monthly_Revenue#39, Join_Date#40, to_date(from_unixtime(cast(LastPayment_Date#41 as bigint), yyyy-MM-dd HH:mm:ss, Some(Asia/Calcutta)), None, Some(Asia/Calcutta)) AS LastPayment_Date#882, Country#42, Age#43, Gender#44, Device#45, Plan_Duration#46]\n   +- Relation [User_ID#37,Subscription_Type#38,Monthly_Revenue#39,Join_Date#40,LastPayment_Date#41,Country#42,Age#43,Gender#44,Device#45,Plan_Duration#46] csv\n",
     "output_type": "error",
     "traceback": [
      "\u001b[1;31m---------------------------------------------------------------------------\u001b[0m",
      "\u001b[1;31mAnalysisException\u001b[0m                         Traceback (most recent call last)",
      "Cell \u001b[1;32mIn[22], line 1\u001b[0m\n\u001b[1;32m----> 1\u001b[0m data\u001b[38;5;241m=\u001b[39m\u001b[43mdata\u001b[49m\u001b[38;5;241;43m.\u001b[39;49m\u001b[43mwithColumn\u001b[49m\u001b[43m(\u001b[49m\u001b[38;5;124;43m\"\u001b[39;49m\u001b[38;5;124;43mLastPayment_Date\u001b[39;49m\u001b[38;5;124;43m\"\u001b[39;49m\u001b[43m,\u001b[49m\u001b[43mf\u001b[49m\u001b[38;5;241;43m.\u001b[39;49m\u001b[43mto_date\u001b[49m\u001b[43m(\u001b[49m\u001b[43mf\u001b[49m\u001b[38;5;241;43m.\u001b[39;49m\u001b[43mfrom_unixtime\u001b[49m\u001b[43m(\u001b[49m\u001b[43mf\u001b[49m\u001b[38;5;241;43m.\u001b[39;49m\u001b[43mcol\u001b[49m\u001b[43m(\u001b[49m\u001b[38;5;124;43m\"\u001b[39;49m\u001b[38;5;124;43mLastPayment_Date\u001b[39;49m\u001b[38;5;124;43m\"\u001b[39;49m\u001b[43m)\u001b[49m\u001b[43m)\u001b[49m\u001b[43m)\u001b[49m\u001b[43m)\u001b[49m\n",
      "File \u001b[1;32mC:\\anaconda3\\envs\\DataScience\\Lib\\site-packages\\pyspark\\sql\\dataframe.py:4789\u001b[0m, in \u001b[0;36mDataFrame.withColumn\u001b[1;34m(self, colName, col)\u001b[0m\n\u001b[0;32m   4784\u001b[0m \u001b[38;5;28;01mif\u001b[39;00m \u001b[38;5;129;01mnot\u001b[39;00m \u001b[38;5;28misinstance\u001b[39m(col, Column):\n\u001b[0;32m   4785\u001b[0m     \u001b[38;5;28;01mraise\u001b[39;00m PySparkTypeError(\n\u001b[0;32m   4786\u001b[0m         error_class\u001b[38;5;241m=\u001b[39m\u001b[38;5;124m\"\u001b[39m\u001b[38;5;124mNOT_COLUMN\u001b[39m\u001b[38;5;124m\"\u001b[39m,\n\u001b[0;32m   4787\u001b[0m         message_parameters\u001b[38;5;241m=\u001b[39m{\u001b[38;5;124m\"\u001b[39m\u001b[38;5;124marg_name\u001b[39m\u001b[38;5;124m\"\u001b[39m: \u001b[38;5;124m\"\u001b[39m\u001b[38;5;124mcol\u001b[39m\u001b[38;5;124m\"\u001b[39m, \u001b[38;5;124m\"\u001b[39m\u001b[38;5;124marg_type\u001b[39m\u001b[38;5;124m\"\u001b[39m: \u001b[38;5;28mtype\u001b[39m(col)\u001b[38;5;241m.\u001b[39m\u001b[38;5;18m__name__\u001b[39m},\n\u001b[0;32m   4788\u001b[0m     )\n\u001b[1;32m-> 4789\u001b[0m \u001b[38;5;28;01mreturn\u001b[39;00m DataFrame(\u001b[38;5;28;43mself\u001b[39;49m\u001b[38;5;241;43m.\u001b[39;49m\u001b[43m_jdf\u001b[49m\u001b[38;5;241;43m.\u001b[39;49m\u001b[43mwithColumn\u001b[49m\u001b[43m(\u001b[49m\u001b[43mcolName\u001b[49m\u001b[43m,\u001b[49m\u001b[43m \u001b[49m\u001b[43mcol\u001b[49m\u001b[38;5;241;43m.\u001b[39;49m\u001b[43m_jc\u001b[49m\u001b[43m)\u001b[49m, \u001b[38;5;28mself\u001b[39m\u001b[38;5;241m.\u001b[39msparkSession)\n",
      "File \u001b[1;32mC:\\anaconda3\\envs\\DataScience\\Lib\\site-packages\\py4j\\java_gateway.py:1322\u001b[0m, in \u001b[0;36mJavaMember.__call__\u001b[1;34m(self, *args)\u001b[0m\n\u001b[0;32m   1316\u001b[0m command \u001b[38;5;241m=\u001b[39m proto\u001b[38;5;241m.\u001b[39mCALL_COMMAND_NAME \u001b[38;5;241m+\u001b[39m\\\n\u001b[0;32m   1317\u001b[0m     \u001b[38;5;28mself\u001b[39m\u001b[38;5;241m.\u001b[39mcommand_header \u001b[38;5;241m+\u001b[39m\\\n\u001b[0;32m   1318\u001b[0m     args_command \u001b[38;5;241m+\u001b[39m\\\n\u001b[0;32m   1319\u001b[0m     proto\u001b[38;5;241m.\u001b[39mEND_COMMAND_PART\n\u001b[0;32m   1321\u001b[0m answer \u001b[38;5;241m=\u001b[39m \u001b[38;5;28mself\u001b[39m\u001b[38;5;241m.\u001b[39mgateway_client\u001b[38;5;241m.\u001b[39msend_command(command)\n\u001b[1;32m-> 1322\u001b[0m return_value \u001b[38;5;241m=\u001b[39m \u001b[43mget_return_value\u001b[49m\u001b[43m(\u001b[49m\n\u001b[0;32m   1323\u001b[0m \u001b[43m    \u001b[49m\u001b[43manswer\u001b[49m\u001b[43m,\u001b[49m\u001b[43m \u001b[49m\u001b[38;5;28;43mself\u001b[39;49m\u001b[38;5;241;43m.\u001b[39;49m\u001b[43mgateway_client\u001b[49m\u001b[43m,\u001b[49m\u001b[43m \u001b[49m\u001b[38;5;28;43mself\u001b[39;49m\u001b[38;5;241;43m.\u001b[39;49m\u001b[43mtarget_id\u001b[49m\u001b[43m,\u001b[49m\u001b[43m \u001b[49m\u001b[38;5;28;43mself\u001b[39;49m\u001b[38;5;241;43m.\u001b[39;49m\u001b[43mname\u001b[49m\u001b[43m)\u001b[49m\n\u001b[0;32m   1325\u001b[0m \u001b[38;5;28;01mfor\u001b[39;00m temp_arg \u001b[38;5;129;01min\u001b[39;00m temp_args:\n\u001b[0;32m   1326\u001b[0m     \u001b[38;5;28;01mif\u001b[39;00m \u001b[38;5;28mhasattr\u001b[39m(temp_arg, \u001b[38;5;124m\"\u001b[39m\u001b[38;5;124m_detach\u001b[39m\u001b[38;5;124m\"\u001b[39m):\n",
      "File \u001b[1;32mC:\\anaconda3\\envs\\DataScience\\Lib\\site-packages\\pyspark\\errors\\exceptions\\captured.py:175\u001b[0m, in \u001b[0;36mcapture_sql_exception.<locals>.deco\u001b[1;34m(*a, **kw)\u001b[0m\n\u001b[0;32m    171\u001b[0m converted \u001b[38;5;241m=\u001b[39m convert_exception(e\u001b[38;5;241m.\u001b[39mjava_exception)\n\u001b[0;32m    172\u001b[0m \u001b[38;5;28;01mif\u001b[39;00m \u001b[38;5;129;01mnot\u001b[39;00m \u001b[38;5;28misinstance\u001b[39m(converted, UnknownException):\n\u001b[0;32m    173\u001b[0m     \u001b[38;5;66;03m# Hide where the exception came from that shows a non-Pythonic\u001b[39;00m\n\u001b[0;32m    174\u001b[0m     \u001b[38;5;66;03m# JVM exception message.\u001b[39;00m\n\u001b[1;32m--> 175\u001b[0m     \u001b[38;5;28;01mraise\u001b[39;00m converted \u001b[38;5;28;01mfrom\u001b[39;00m \u001b[38;5;28;01mNone\u001b[39;00m\n\u001b[0;32m    176\u001b[0m \u001b[38;5;28;01melse\u001b[39;00m:\n\u001b[0;32m    177\u001b[0m     \u001b[38;5;28;01mraise\u001b[39;00m\n",
      "\u001b[1;31mAnalysisException\u001b[0m: [DATATYPE_MISMATCH.UNEXPECTED_INPUT_TYPE] Cannot resolve \"from_unixtime(LastPayment_Date, yyyy-MM-dd HH:mm:ss)\" due to data type mismatch: Parameter 1 requires the \"BIGINT\" type, however \"LastPayment_Date\" has the type \"DATE\".;\n'Project [User_ID#37, Subscription_Type#38, Monthly_Revenue#39, Join_Date#40, to_date(from_unixtime(LastPayment_Date#882, yyyy-MM-dd HH:mm:ss, Some(Asia/Calcutta)), None, Some(Asia/Calcutta)) AS LastPayment_Date#894, Country#42, Age#43, Gender#44, Device#45, Plan_Duration#46]\n+- Project [User_ID#37, Subscription_Type#38, Monthly_Revenue#39, Join_Date#40, to_date(from_unixtime(cast(LastPayment_Date#41 as bigint), yyyy-MM-dd HH:mm:ss, Some(Asia/Calcutta)), None, Some(Asia/Calcutta)) AS LastPayment_Date#882, Country#42, Age#43, Gender#44, Device#45, Plan_Duration#46]\n   +- Relation [User_ID#37,Subscription_Type#38,Monthly_Revenue#39,Join_Date#40,LastPayment_Date#41,Country#42,Age#43,Gender#44,Device#45,Plan_Duration#46] csv\n"
     ]
    }
   ],
   "source": [
    "data=data.withColumn(\"LastPayment_Date\",f.to_date(f.from_unixtime(f.col(\"LastPayment_Date\"))))"
   ]
  },
  {
   "cell_type": "code",
   "execution_count": 27,
   "id": "d454908b",
   "metadata": {},
   "outputs": [
    {
     "name": "stdout",
     "output_type": "stream",
     "text": [
      "+-------+-----------------+---------------+---------+----------------+--------------+---+------+----------+-------------+\n",
      "|User_ID|Subscription_Type|Monthly_Revenue|Join_Date|LastPayment_Date|       Country|Age|Gender|    Device|Plan_Duration|\n",
      "+-------+-----------------+---------------+---------+----------------+--------------+---+------+----------+-------------+\n",
      "|      1|            Basic|           10.0| 15-01-22|        10-06-23| United States| 28|  Male|Smartphone|      1 Month|\n",
      "|      2|          Premium|           15.0| 05-09-21|        22-06-23|        Canada| 35|Female|    Tablet|      1 Month|\n",
      "|      3|         Standard|           12.0| 28-02-23|        27-06-23|United Kingdom| 42|  Male|  Smart TV|      1 Month|\n",
      "|      4|         Standard|           12.0| 10-07-22|        26-06-23|     Australia| 51|Female|    Laptop|      1 Month|\n",
      "|      5|            Basic|           10.0| 01-05-23|        28-06-23|       Germany| 33|  Male|Smartphone|      1 Month|\n",
      "|      6|          Premium|           15.0| 18-03-22|        27-06-23|        France| 29|Female|  Smart TV|      1 Month|\n",
      "|      7|         Standard|           12.0| 09-12-21|        25-06-23|        Brazil| 46|  Male|    Tablet|      1 Month|\n",
      "|      8|            Basic|           10.0| 02-04-23|        24-06-23|        Mexico| 39|Female|    Laptop|      1 Month|\n",
      "|      9|         Standard|           12.0| 20-10-22|        23-06-23|         Spain| 37|  Male|Smartphone|      1 Month|\n",
      "|     10|          Premium|           15.0| 07-01-23|        22-06-23|         Italy| 44|Female|  Smart TV|      1 Month|\n",
      "|     11|            Basic|           10.0| 16-05-22|        22-06-23| United States| 31|Female|Smartphone|      1 Month|\n",
      "|     12|          Premium|           15.0| 23-03-23|        28-06-23|        Canada| 45|  Male|    Tablet|      1 Month|\n",
      "|     13|         Standard|           12.0| 30-11-21|        27-06-23|United Kingdom| 48|Female|    Laptop|      1 Month|\n",
      "|     14|            Basic|           10.0| 01-08-22|        26-06-23|     Australia| 27|  Male|Smartphone|      1 Month|\n",
      "|     15|         Standard|           12.0| 09-05-23|        28-06-23|       Germany| 38|Female|  Smart TV|      1 Month|\n",
      "|     16|          Premium|           15.0| 07-04-22|        27-06-23|        France| 36|  Male|    Tablet|      1 Month|\n",
      "|     17|            Basic|           10.0| 24-01-22|        25-06-23|        Brazil| 30|Female|    Laptop|      1 Month|\n",
      "|     18|         Standard|           12.0| 18-10-21|        24-06-23|        Mexico| 43|  Male|Smartphone|      1 Month|\n",
      "|     19|          Premium|           15.0| 15-02-23|        23-06-23|         Spain| 32|Female|  Smart TV|      1 Month|\n",
      "|     20|            Basic|           10.0| 27-05-23|        22-06-23|         Italy| 41|  Male|    Tablet|      1 Month|\n",
      "+-------+-----------------+---------------+---------+----------------+--------------+---+------+----------+-------------+\n",
      "only showing top 20 rows\n",
      "\n"
     ]
    }
   ],
   "source": [
    "data.show()"
   ]
  },
  {
   "cell_type": "code",
   "execution_count": null,
   "id": "42945c4a",
   "metadata": {},
   "outputs": [],
   "source": [
    "# Remove Rows with Missing Values\n",
    "\n",
    "data.na.drop()"
   ]
  },
  {
   "cell_type": "code",
   "execution_count": 46,
   "id": "a85d9a2e",
   "metadata": {},
   "outputs": [
    {
     "name": "stdout",
     "output_type": "stream",
     "text": [
      "+-------+-----------------+---------------+----------+----------------+--------------+---+------+----------+-------------+\n",
      "|User_ID|Subscription_Type|Monthly_Revenue| Join_Date|LastPayment_Date|       Country|Age|Gender|    Device|Plan_Duration|\n",
      "+-------+-----------------+---------------+----------+----------------+--------------+---+------+----------+-------------+\n",
      "|      1|            Basic|           10.0|2022-01-15|      2023-06-10| United States| 28|  Male|Smartphone|      1 Month|\n",
      "|      2|          Premium|           15.0|2021-09-05|      2023-06-22|        Canada| 35|Female|    Tablet|      1 Month|\n",
      "|      3|         Standard|           12.0|2023-02-28|      2023-06-27|United Kingdom| 42|  Male|  Smart TV|      1 Month|\n",
      "|      4|         Standard|           12.0|2022-07-10|      2023-06-26|     Australia| 51|Female|    Laptop|      1 Month|\n",
      "|      5|            Basic|           10.0|2023-05-01|      2023-06-28|       Germany| 33|  Male|Smartphone|      1 Month|\n",
      "|      6|          Premium|           15.0|2022-03-18|      2023-06-27|        France| 29|Female|  Smart TV|      1 Month|\n",
      "|      7|         Standard|           12.0|2021-12-09|      2023-06-25|        Brazil| 46|  Male|    Tablet|      1 Month|\n",
      "|      8|            Basic|           10.0|2023-04-02|      2023-06-24|        Mexico| 39|Female|    Laptop|      1 Month|\n",
      "|      9|         Standard|           12.0|2022-10-20|      2023-06-23|         Spain| 37|  Male|Smartphone|      1 Month|\n",
      "|     10|          Premium|           15.0|2023-01-07|      2023-06-22|         Italy| 44|Female|  Smart TV|      1 Month|\n",
      "|     11|            Basic|           10.0|2022-05-16|      2023-06-22| United States| 31|Female|Smartphone|      1 Month|\n",
      "|     12|          Premium|           15.0|2023-03-23|      2023-06-28|        Canada| 45|  Male|    Tablet|      1 Month|\n",
      "|     13|         Standard|           12.0|2021-11-30|      2023-06-27|United Kingdom| 48|Female|    Laptop|      1 Month|\n",
      "|     14|            Basic|           10.0|2022-08-01|      2023-06-26|     Australia| 27|  Male|Smartphone|      1 Month|\n",
      "|     15|         Standard|           12.0|2023-05-09|      2023-06-28|       Germany| 38|Female|  Smart TV|      1 Month|\n",
      "|     16|          Premium|           15.0|2022-04-07|      2023-06-27|        France| 36|  Male|    Tablet|      1 Month|\n",
      "|     17|            Basic|           10.0|2022-01-24|      2023-06-25|        Brazil| 30|Female|    Laptop|      1 Month|\n",
      "|     18|         Standard|           12.0|2021-10-18|      2023-06-24|        Mexico| 43|  Male|Smartphone|      1 Month|\n",
      "|     19|          Premium|           15.0|2023-02-15|      2023-06-23|         Spain| 32|Female|  Smart TV|      1 Month|\n",
      "|     20|            Basic|           10.0|2023-05-27|      2023-06-22|         Italy| 41|  Male|    Tablet|      1 Month|\n",
      "+-------+-----------------+---------------+----------+----------------+--------------+---+------+----------+-------------+\n",
      "only showing top 20 rows\n",
      "\n"
     ]
    }
   ],
   "source": [
    "data.show()"
   ]
  },
  {
   "cell_type": "code",
   "execution_count": null,
   "id": "6310910b",
   "metadata": {},
   "outputs": [],
   "source": [
    "## Selecting Single Column\n",
    "\n",
    "data.select('User_ID').show(5)"
   ]
  },
  {
   "cell_type": "code",
   "execution_count": null,
   "id": "33eca221",
   "metadata": {},
   "outputs": [],
   "source": [
    "## Selecting Multiple columns\n",
    "\n",
    "data.select(['Subscription_Type', 'Monthly_Revenue', 'Device']).show(5)"
   ]
  },
  {
   "cell_type": "code",
   "execution_count": null,
   "id": "cc9af8ae",
   "metadata": {},
   "outputs": [],
   "source": [
    "from pyspark.sql.functions import col, lit\n",
    "\n",
    "data.filter( (col('Join_date') >= lit('2022-01-01')) & (col('Join_date') <= lit('2023-01-15')) ).show()"
   ]
  },
  {
   "cell_type": "code",
   "execution_count": null,
   "id": "e235965e",
   "metadata": {},
   "outputs": [],
   "source": [
    "## fetch the data where the adjusted value is between 100.0 and 500.0\n",
    "\n",
    "data.filter(data.Monthly_Revenue.between(15.0, 20.0)).show()"
   ]
  },
  {
   "cell_type": "code",
   "execution_count": 15,
   "id": "1951c171",
   "metadata": {},
   "outputs": [
    {
     "ename": "SyntaxError",
     "evalue": "invalid syntax (3879179627.py, line 2)",
     "output_type": "error",
     "traceback": [
      "\u001b[1;36m  Cell \u001b[1;32mIn[15], line 2\u001b[1;36m\u001b[0m\n\u001b[1;33m    case when(data.Age >= 30, 1).otherwise(0)\u001b[0m\n\u001b[1;37m         ^\u001b[0m\n\u001b[1;31mSyntaxError\u001b[0m\u001b[1;31m:\u001b[0m invalid syntax\n"
     ]
    }
   ],
   "source": [
    "data.select('user_id', 'Subscription_Type', \n",
    "            case when(data.Age >= 30, 1).otherwise(0)\n",
    "           ).show(5)"
   ]
  },
  {
   "cell_type": "code",
   "execution_count": 53,
   "id": "6583236c",
   "metadata": {},
   "outputs": [],
   "source": [
    "df1=data.withColumn(\"months_add\",add_months(date_format('LastPayment_Date','dd-MM-yy'),1))"
   ]
  },
  {
   "cell_type": "code",
   "execution_count": 54,
   "id": "4cb541ac",
   "metadata": {},
   "outputs": [
    {
     "name": "stdout",
     "output_type": "stream",
     "text": [
      "+-------+-----------------+---------------+----------+----------------+--------------+---+------+----------+-------------+----------+\n",
      "|User_ID|Subscription_Type|Monthly_Revenue| Join_Date|LastPayment_Date|       Country|Age|Gender|    Device|Plan_Duration|months_add|\n",
      "+-------+-----------------+---------------+----------+----------------+--------------+---+------+----------+-------------+----------+\n",
      "|      1|            Basic|           10.0|2022-01-15|      2023-06-10| United States| 28|  Male|Smartphone|      1 Month|      null|\n",
      "|      2|          Premium|           15.0|2021-09-05|      2023-06-22|        Canada| 35|Female|    Tablet|      1 Month|      null|\n",
      "|      3|         Standard|           12.0|2023-02-28|      2023-06-27|United Kingdom| 42|  Male|  Smart TV|      1 Month|      null|\n",
      "|      4|         Standard|           12.0|2022-07-10|      2023-06-26|     Australia| 51|Female|    Laptop|      1 Month|      null|\n",
      "|      5|            Basic|           10.0|2023-05-01|      2023-06-28|       Germany| 33|  Male|Smartphone|      1 Month|      null|\n",
      "|      6|          Premium|           15.0|2022-03-18|      2023-06-27|        France| 29|Female|  Smart TV|      1 Month|      null|\n",
      "|      7|         Standard|           12.0|2021-12-09|      2023-06-25|        Brazil| 46|  Male|    Tablet|      1 Month|      null|\n",
      "|      8|            Basic|           10.0|2023-04-02|      2023-06-24|        Mexico| 39|Female|    Laptop|      1 Month|      null|\n",
      "|      9|         Standard|           12.0|2022-10-20|      2023-06-23|         Spain| 37|  Male|Smartphone|      1 Month|      null|\n",
      "|     10|          Premium|           15.0|2023-01-07|      2023-06-22|         Italy| 44|Female|  Smart TV|      1 Month|      null|\n",
      "|     11|            Basic|           10.0|2022-05-16|      2023-06-22| United States| 31|Female|Smartphone|      1 Month|      null|\n",
      "|     12|          Premium|           15.0|2023-03-23|      2023-06-28|        Canada| 45|  Male|    Tablet|      1 Month|      null|\n",
      "|     13|         Standard|           12.0|2021-11-30|      2023-06-27|United Kingdom| 48|Female|    Laptop|      1 Month|      null|\n",
      "|     14|            Basic|           10.0|2022-08-01|      2023-06-26|     Australia| 27|  Male|Smartphone|      1 Month|      null|\n",
      "|     15|         Standard|           12.0|2023-05-09|      2023-06-28|       Germany| 38|Female|  Smart TV|      1 Month|      null|\n",
      "|     16|          Premium|           15.0|2022-04-07|      2023-06-27|        France| 36|  Male|    Tablet|      1 Month|      null|\n",
      "|     17|            Basic|           10.0|2022-01-24|      2023-06-25|        Brazil| 30|Female|    Laptop|      1 Month|      null|\n",
      "|     18|         Standard|           12.0|2021-10-18|      2023-06-24|        Mexico| 43|  Male|Smartphone|      1 Month|      null|\n",
      "|     19|          Premium|           15.0|2023-02-15|      2023-06-23|         Spain| 32|Female|  Smart TV|      1 Month|      null|\n",
      "|     20|            Basic|           10.0|2023-05-27|      2023-06-22|         Italy| 41|  Male|    Tablet|      1 Month|      null|\n",
      "+-------+-----------------+---------------+----------+----------------+--------------+---+------+----------+-------------+----------+\n",
      "only showing top 20 rows\n",
      "\n"
     ]
    }
   ],
   "source": [
    "df1.show()"
   ]
  },
  {
   "cell_type": "code",
   "execution_count": null,
   "id": "0c120b83",
   "metadata": {},
   "outputs": [],
   "source": []
  }
 ],
 "metadata": {
  "kernelspec": {
   "display_name": "DataScience",
   "language": "python",
   "name": "datascience"
  },
  "language_info": {
   "codemirror_mode": {
    "name": "ipython",
    "version": 3
   },
   "file_extension": ".py",
   "mimetype": "text/x-python",
   "name": "python",
   "nbconvert_exporter": "python",
   "pygments_lexer": "ipython3",
   "version": "3.11.4"
  }
 },
 "nbformat": 4,
 "nbformat_minor": 5
}
